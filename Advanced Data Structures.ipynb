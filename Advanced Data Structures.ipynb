{
 "cells": [
  {
   "cell_type": "markdown",
   "metadata": {},
   "source": [
    "# Data Structures and Algorithms"
   ]
  },
  {
   "cell_type": "raw",
   "metadata": {},
   "source": [
    "All data structures are basically objects and each is implemented using class as the built in data structures are also \n",
    "class, for example, int class and str class"
   ]
  },
  {
   "cell_type": "markdown",
   "metadata": {},
   "source": [
    "# Stacks"
   ]
  },
  {
   "cell_type": "code",
   "execution_count": 26,
   "metadata": {},
   "outputs": [],
   "source": [
    "# Stacks :: Stacks are basically like a pile of books and follows the LIFO principles\n",
    "# Implementation of a stack :: Stack class\n",
    "class Stack(object):\n",
    "    def __init__(self):\n",
    "        self.stck=[] # stacks are basically lists\n",
    "    \n",
    "    def isEmpty(self):\n",
    "        return self.stck==[] # checking if stack is empty, return boolean\n",
    "    \n",
    "    def push(self,item):\n",
    "        self.stck.append(item) # adds an item at last\n",
    "    \n",
    "    def pop(self):\n",
    "        return self.stck.pop() # removes an item from last\n",
    "        \n",
    "    def size(self):\n",
    "        return len(self.stck) # size of stack\n",
    "    \n",
    "    def peek(self):\n",
    "        return self.stck[len(self.stck)-1] # last inserted element\n",
    "    \n",
    "    def __str__(self):\n",
    "        return str(self.stck) # to print out the stack items"
   ]
  },
  {
   "cell_type": "code",
   "execution_count": 27,
   "metadata": {},
   "outputs": [
    {
     "data": {
      "text/plain": [
       "True"
      ]
     },
     "execution_count": 27,
     "metadata": {},
     "output_type": "execute_result"
    }
   ],
   "source": [
    "s=Stack()\n",
    "s.isEmpty()"
   ]
  },
  {
   "cell_type": "code",
   "execution_count": 28,
   "metadata": {},
   "outputs": [],
   "source": [
    "s.push(2)\n",
    "s.push(3)"
   ]
  },
  {
   "cell_type": "code",
   "execution_count": 29,
   "metadata": {},
   "outputs": [
    {
     "name": "stdout",
     "output_type": "stream",
     "text": [
      "[2, 3]\n"
     ]
    }
   ],
   "source": [
    "print(s)"
   ]
  },
  {
   "cell_type": "code",
   "execution_count": 30,
   "metadata": {},
   "outputs": [
    {
     "data": {
      "text/plain": [
       "2"
      ]
     },
     "execution_count": 30,
     "metadata": {},
     "output_type": "execute_result"
    }
   ],
   "source": [
    "s.size()"
   ]
  },
  {
   "cell_type": "code",
   "execution_count": 31,
   "metadata": {},
   "outputs": [
    {
     "data": {
      "text/plain": [
       "3"
      ]
     },
     "execution_count": 31,
     "metadata": {},
     "output_type": "execute_result"
    }
   ],
   "source": [
    "s.peek()"
   ]
  },
  {
   "cell_type": "code",
   "execution_count": 32,
   "metadata": {},
   "outputs": [],
   "source": [
    "s.pop()"
   ]
  },
  {
   "cell_type": "code",
   "execution_count": 34,
   "metadata": {},
   "outputs": [
    {
     "name": "stdout",
     "output_type": "stream",
     "text": [
      "[2]\n"
     ]
    }
   ],
   "source": [
    "print(s)"
   ]
  },
  {
   "cell_type": "markdown",
   "metadata": {},
   "source": [
    "# Queue"
   ]
  },
  {
   "cell_type": "code",
   "execution_count": 35,
   "metadata": {},
   "outputs": [],
   "source": [
    "# Queue:: This is more of a line infront a store with FIFO principle\n",
    "# Implementation of Queue\n",
    "\n",
    "class Queue(object):\n",
    "    def __init__(self):\n",
    "        self.que=[] # initializing queue as an empty list, just like stacks\n",
    "    \n",
    "    def isEmpty(self):\n",
    "        return self.que==[] # return boolean\n",
    "    \n",
    "    def enqueue(self,item):\n",
    "        self.que.append(item) # adds an item to the last\n",
    "        \n",
    "    def dequeue(self):\n",
    "        return self.que.pop(0) # the first item to be popped off\n",
    "    \n",
    "    def size(self):\n",
    "        return len(self.que)\n",
    "    \n",
    "    def __str__(self):\n",
    "        return str(self.que) # for printing out"
   ]
  },
  {
   "cell_type": "code",
   "execution_count": 37,
   "metadata": {},
   "outputs": [
    {
     "data": {
      "text/plain": [
       "True"
      ]
     },
     "execution_count": 37,
     "metadata": {},
     "output_type": "execute_result"
    }
   ],
   "source": [
    "q=Queue()\n",
    "q.isEmpty()"
   ]
  },
  {
   "cell_type": "code",
   "execution_count": 38,
   "metadata": {},
   "outputs": [],
   "source": [
    "q.enqueue(2)"
   ]
  },
  {
   "cell_type": "code",
   "execution_count": 39,
   "metadata": {},
   "outputs": [
    {
     "name": "stdout",
     "output_type": "stream",
     "text": [
      "[2]\n"
     ]
    }
   ],
   "source": [
    "print(q)"
   ]
  },
  {
   "cell_type": "code",
   "execution_count": 40,
   "metadata": {},
   "outputs": [
    {
     "data": {
      "text/plain": [
       "2"
      ]
     },
     "execution_count": 40,
     "metadata": {},
     "output_type": "execute_result"
    }
   ],
   "source": [
    "q.dequeue()"
   ]
  },
  {
   "cell_type": "code",
   "execution_count": 41,
   "metadata": {},
   "outputs": [
    {
     "data": {
      "text/plain": [
       "1"
      ]
     },
     "execution_count": 41,
     "metadata": {},
     "output_type": "execute_result"
    }
   ],
   "source": [
    "q.enqueue(3)\n",
    "q.size()"
   ]
  },
  {
   "cell_type": "markdown",
   "metadata": {},
   "source": [
    "# Deque"
   ]
  },
  {
   "cell_type": "code",
   "execution_count": 42,
   "metadata": {},
   "outputs": [],
   "source": [
    "# Deque:: Deque follows both FIFO and LIFO principle & user gets an option via methods to add/remove element at either end\n",
    "# Implement a Deque\n",
    "\n",
    "class Deque(object):\n",
    "    \n",
    "    def __init__(self):\n",
    "        self.deq=[] # assigned a list\n",
    "        \n",
    "    def isEmpty(self):\n",
    "        return self.deq==[] # returns boolean\n",
    "    \n",
    "    def addFront(self,item):\n",
    "        self.deq.append(item) # appending an item at front\n",
    "        \n",
    "    def addRear(self,item):\n",
    "        self.deq.insert(0,item) # item inserted at the index 0\n",
    "        \n",
    "    def popFront(self):\n",
    "        return self.deq.pop() # pops the item at last index\n",
    "    \n",
    "    def popRear(self):\n",
    "        return self.deq.pop(0) # pops the item at index 0\n",
    "    \n",
    "    def size(self):\n",
    "        return len(self.deq)\n",
    "    \n",
    "    def __str__(self):\n",
    "        return str(self.deq)"
   ]
  },
  {
   "cell_type": "code",
   "execution_count": 44,
   "metadata": {},
   "outputs": [
    {
     "data": {
      "text/plain": [
       "True"
      ]
     },
     "execution_count": 44,
     "metadata": {},
     "output_type": "execute_result"
    }
   ],
   "source": [
    "deq=Deque()\n",
    "deq.isEmpty()"
   ]
  },
  {
   "cell_type": "code",
   "execution_count": 45,
   "metadata": {},
   "outputs": [],
   "source": [
    "deq.addFront(2)\n",
    "deq.addFront(3)\n",
    "deq.addFront(4)"
   ]
  },
  {
   "cell_type": "code",
   "execution_count": 46,
   "metadata": {},
   "outputs": [],
   "source": [
    "deq.addRear(0)\n",
    "deq.addRear(1)"
   ]
  },
  {
   "cell_type": "code",
   "execution_count": 47,
   "metadata": {},
   "outputs": [
    {
     "name": "stdout",
     "output_type": "stream",
     "text": [
      "[1, 0, 2, 3, 4]\n"
     ]
    }
   ],
   "source": [
    "print(deq)"
   ]
  },
  {
   "cell_type": "code",
   "execution_count": 48,
   "metadata": {},
   "outputs": [
    {
     "data": {
      "text/plain": [
       "4"
      ]
     },
     "execution_count": 48,
     "metadata": {},
     "output_type": "execute_result"
    }
   ],
   "source": [
    "deq.popFront()"
   ]
  },
  {
   "cell_type": "code",
   "execution_count": 49,
   "metadata": {},
   "outputs": [
    {
     "data": {
      "text/plain": [
       "1"
      ]
     },
     "execution_count": 49,
     "metadata": {},
     "output_type": "execute_result"
    }
   ],
   "source": [
    "deq.popRear()"
   ]
  },
  {
   "cell_type": "code",
   "execution_count": 50,
   "metadata": {},
   "outputs": [
    {
     "data": {
      "text/plain": [
       "3"
      ]
     },
     "execution_count": 50,
     "metadata": {},
     "output_type": "execute_result"
    }
   ],
   "source": [
    "deq.size()"
   ]
  },
  {
   "cell_type": "markdown",
   "metadata": {},
   "source": [
    "# Linked List"
   ]
  },
  {
   "cell_type": "code",
   "execution_count": 1,
   "metadata": {},
   "outputs": [],
   "source": [
    "# Singly linked list and Doubly Linked List"
   ]
  },
  {
   "cell_type": "raw",
   "metadata": {},
   "source": [
    "Linked lists are ordered collection of objects while list stores data in contiguos memory block, linked list stores ref\n",
    "as an element:: Each element of a linked list is called a node containing of data and next(ref to next data).\n",
    "collection of such nodes is linked list with first node called head, last node in linked list has next(ref) as None."
   ]
  },
  {
   "cell_type": "code",
   "execution_count": 25,
   "metadata": {},
   "outputs": [],
   "source": [
    "# implementation of singly linked list\n",
    "class Node(object):\n",
    "    def __init__(self,data):\n",
    "        self.data=data\n",
    "        self.next=None\n",
    "    \n",
    "    def __str__(self):\n",
    "        return str('|{}|{}|'.format(self.data,self.next))"
   ]
  },
  {
   "cell_type": "code",
   "execution_count": 26,
   "metadata": {},
   "outputs": [
    {
     "name": "stdout",
     "output_type": "stream",
     "text": [
      "|3|None|\n"
     ]
    }
   ],
   "source": [
    "a=Node(3)\n",
    "#print('|{} | {}|'.format(a.data,a.next)) # this is how a node is created\n",
    "print(a)"
   ]
  },
  {
   "cell_type": "code",
   "execution_count": 20,
   "metadata": {},
   "outputs": [],
   "source": [
    "# Doubly Linked list \n",
    "# A doubly linked consists reference to previous element in the list: This also has a dummy node as Header at begining\n",
    "# and Trailer at the end"
   ]
  },
  {
   "cell_type": "code",
   "execution_count": 23,
   "metadata": {},
   "outputs": [],
   "source": [
    "# implementation of a doubly linked list\n",
    "class dNode(object):\n",
    "    def __init__(self,data):\n",
    "        self.prev=None\n",
    "        self.data=data\n",
    "        self.next=None\n",
    "    \n",
    "    def __str__(self):\n",
    "        return str('|{}|{}|{}|'.format(self.prev,self.data,self.next))"
   ]
  },
  {
   "cell_type": "code",
   "execution_count": 24,
   "metadata": {},
   "outputs": [
    {
     "name": "stdout",
     "output_type": "stream",
     "text": [
      "|None|3|None|\n"
     ]
    }
   ],
   "source": [
    "b=dNode(3)\n",
    "print(b)"
   ]
  },
  {
   "cell_type": "code",
   "execution_count": 1,
   "metadata": {},
   "outputs": [],
   "source": [
    "# function to reverse a linkedlist\n",
    "def reversePrint(head):\n",
    "        if head == None:\n",
    "                return \n",
    "        else:\n",
    "                reversePrint(head.next)\n",
    "                print(head.data)"
   ]
  },
  {
   "cell_type": "code",
   "execution_count": null,
   "metadata": {},
   "outputs": [],
   "source": []
  }
 ],
 "metadata": {
  "kernelspec": {
   "display_name": "Python 2",
   "language": "python",
   "name": "python2"
  },
  "language_info": {
   "codemirror_mode": {
    "name": "ipython",
    "version": 2
   },
   "file_extension": ".py",
   "mimetype": "text/x-python",
   "name": "python",
   "nbconvert_exporter": "python",
   "pygments_lexer": "ipython2",
   "version": "2.7.16"
  }
 },
 "nbformat": 4,
 "nbformat_minor": 2
}
