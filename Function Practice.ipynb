{
 "cells": [
  {
   "cell_type": "markdown",
   "metadata": {},
   "source": [
    "# Function Practice Exercises"
   ]
  },
  {
   "cell_type": "code",
   "execution_count": 36,
   "metadata": {},
   "outputs": [],
   "source": [
    "#Lesser of two evens: Write a function that returns the lesser of two given numbers if both numbers are even, but returns the\n",
    "# greater if one or both the numbers are odd."
   ]
  },
  {
   "cell_type": "code",
   "execution_count": 50,
   "metadata": {},
   "outputs": [
    {
     "data": {
      "text/plain": [
       "0"
      ]
     },
     "execution_count": 50,
     "metadata": {},
     "output_type": "execute_result"
    }
   ],
   "source": [
    "def lesser_of_two_evens(a,b):\n",
    "    '''\n",
    "    DOC STRING: Function returns lesser of even and greater of odd numbers\n",
    "    INPUT: two numbers\n",
    "    OUTPUT: one number based on the calculation\n",
    "    '''\n",
    "    my_list=[a,b]\n",
    "    my_list.sort()\n",
    "    if a%2==0 and b%2==0:\n",
    "        return my_list[0]\n",
    "    elif a%2!=0 and b%2!=0:\n",
    "        return my_list[-1]\n",
    "    else:\n",
    "        return 0\n",
    "# calling the function now\n",
    "lesser_of_two_evens(22,43)"
   ]
  },
  {
   "cell_type": "code",
   "execution_count": 2,
   "metadata": {},
   "outputs": [],
   "source": [
    "# Animal Crackers: Write a function that takes a two-word string and returns True if both words begin with same letter\n",
    "# animal_crackers('Level Lima') => True\n",
    "# animal_crackers('Crazy Man') => False"
   ]
  },
  {
   "cell_type": "code",
   "execution_count": 11,
   "metadata": {},
   "outputs": [
    {
     "data": {
      "text/plain": [
       "True"
      ]
     },
     "execution_count": 11,
     "metadata": {},
     "output_type": "execute_result"
    }
   ],
   "source": [
    "def animal_crackers(string):\n",
    "    string_list=string.split()\n",
    "    return string_list[0][0].lower()==string_list[1][0].lower()\n",
    "animal_crackers('Level lima')"
   ]
  },
  {
   "cell_type": "code",
   "execution_count": 15,
   "metadata": {},
   "outputs": [
    {
     "data": {
      "text/plain": [
       "False"
      ]
     },
     "execution_count": 15,
     "metadata": {},
     "output_type": "execute_result"
    }
   ],
   "source": [
    "# MAKES TWENTY: Given two integers, return True if the sum of the integers is 20 or if one of the integers is 20. \n",
    "# If not, return false\n",
    "def makes_twenty(a,b):\n",
    "    return a+b==20 or a==20 or b==20\n",
    "makes_twenty(2,3)"
   ]
  },
  {
   "cell_type": "markdown",
   "metadata": {},
   "source": [
    "# Level 1 Problems"
   ]
  },
  {
   "cell_type": "code",
   "execution_count": 20,
   "metadata": {},
   "outputs": [
    {
     "data": {
      "text/plain": [
       "'MacDonald'"
      ]
     },
     "execution_count": 20,
     "metadata": {},
     "output_type": "execute_result"
    }
   ],
   "source": [
    "# OLD MACDONALD: Write a function that capitalizes the first and forth letters of a name\n",
    "def old_macdonald(name):\n",
    "    '''\n",
    "    INPUT: a name\n",
    "    OUTPUT: first and forth letter capitalized\n",
    "    '''\n",
    "    name_list=[x for x in name]\n",
    "    name_list[0]=name_list[0].upper()\n",
    "    name_list[3]=name_list[3].upper()\n",
    "    name_string=''.join(name_list)\n",
    "    return name_string\n",
    "old_macdonald('Macdonald')"
   ]
  },
  {
   "cell_type": "code",
   "execution_count": 90,
   "metadata": {},
   "outputs": [],
   "source": [
    "# MASTER YODA: Given a sentence, return a sentence with the words reversed\n",
    "# master_yoda('I am home') => 'home am I'"
   ]
  },
  {
   "cell_type": "code",
   "execution_count": 91,
   "metadata": {},
   "outputs": [
    {
     "data": {
      "text/plain": [
       "'home am I'"
      ]
     },
     "execution_count": 91,
     "metadata": {},
     "output_type": "execute_result"
    }
   ],
   "source": [
    "def master_yoda(string='I am home'):\n",
    "    string_list=string.split()\n",
    "    string_list.reverse()\n",
    "    new_string=' '.join(string_list)\n",
    "    return new_string\n",
    "master_yoda()"
   ]
  },
  {
   "cell_type": "code",
   "execution_count": 36,
   "metadata": {},
   "outputs": [
    {
     "data": {
      "text/plain": [
       "False"
      ]
     },
     "execution_count": 36,
     "metadata": {},
     "output_type": "execute_result"
    }
   ],
   "source": [
    "# ALMOST THERE: Given an integer n, return True if n is within 10 of either 100 or 200\n",
    "def almost_there(n=109):\n",
    "    return abs(n-100)<=10 or abs(n-200)<=10\n",
    "almost_there(240)"
   ]
  },
  {
   "cell_type": "markdown",
   "metadata": {},
   "source": [
    "# Level 2 Problems"
   ]
  },
  {
   "cell_type": "code",
   "execution_count": 31,
   "metadata": {},
   "outputs": [
    {
     "data": {
      "text/plain": [
       "False"
      ]
     },
     "execution_count": 31,
     "metadata": {},
     "output_type": "execute_result"
    }
   ],
   "source": [
    "# FIND 33: Given a list of ints, return True if the array contains a 3 next to a 3 somewhere\n",
    "# has_33([1,3,3]) => True\n",
    "# has_33([3,2,3]) => False\n",
    "def has_33(int_list):\n",
    "    for num in range(0,len(int_list)-1):\n",
    "        if int_list[num:num+2]==[3,3]:\n",
    "            return True\n",
    "        else:\n",
    "            return False\n",
    "has_33([1,3,3])"
   ]
  },
  {
   "cell_type": "code",
   "execution_count": 88,
   "metadata": {},
   "outputs": [],
   "source": [
    "# LAUGHTER: Write a function that counts the number of times a pattern appears within a string including overlap\n",
    "# Example, laughter('hah','hahahah') => 3 "
   ]
  },
  {
   "cell_type": "code",
   "execution_count": 89,
   "metadata": {},
   "outputs": [
    {
     "data": {
      "text/plain": [
       "4"
      ]
     },
     "execution_count": 89,
     "metadata": {},
     "output_type": "execute_result"
    }
   ],
   "source": [
    "def laughter(text, string):\n",
    "    func_return=0\n",
    "    for i in range(0,len(string)):\n",
    "        if string[i:i+len(text)].find(text)==0:\n",
    "            func_return =func_return + 1\n",
    "    return func_return\n",
    "laughter('hah','hahahahah')   "
   ]
  },
  {
   "cell_type": "code",
   "execution_count": 86,
   "metadata": {},
   "outputs": [],
   "source": [
    "# PAPER DOLL: Given a string, return a string where for every character in the original string, there are three characters.\n",
    "# Example, paper_doll('Hello') => 'HHHeeellllllooo'"
   ]
  },
  {
   "cell_type": "code",
   "execution_count": 87,
   "metadata": {},
   "outputs": [
    {
     "data": {
      "text/plain": [
       "'HHHeeellllllooo'"
      ]
     },
     "execution_count": 87,
     "metadata": {},
     "output_type": "execute_result"
    }
   ],
   "source": [
    "def paper_doll(string):\n",
    "    list_string=list(string)\n",
    "    for i in range(0,len(list_string)):\n",
    "        list_string[i]=list_string[i]*3\n",
    "    return ''.join(list_string)\n",
    "paper_doll('Hello')"
   ]
  },
  {
   "cell_type": "code",
   "execution_count": 84,
   "metadata": {},
   "outputs": [],
   "source": [
    "# BLACKJACK: Given three integers between 1 and 11, if their sum is less than or equal to 21, return their sum.\n",
    "# If their sum exceeds 21 and there is an elevan, reduce the total sum by 10. \n",
    "# Finally if the sum even after adjustment exceeds 21, return 'BUST'\n",
    "# Example, black_jack(5,6,7) => 18 , black_jack(9,9,9) => 'BUST', black_jack(9,9,11) => 19"
   ]
  },
  {
   "cell_type": "code",
   "execution_count": 85,
   "metadata": {},
   "outputs": [
    {
     "data": {
      "text/plain": [
       "'BUST'"
      ]
     },
     "execution_count": 85,
     "metadata": {},
     "output_type": "execute_result"
    }
   ],
   "source": [
    "def black_jack(* args):\n",
    "    func_ret=sum(args)\n",
    "    args_tup=tuple(args)\n",
    "    if func_ret <= 21:\n",
    "        pass\n",
    "    elif func_ret>21 and 11 in args_tup:\n",
    "        func_ret-=10\n",
    "    if func_ret > 21:\n",
    "        return 'BUST'\n",
    "    else:\n",
    "        return func_ret\n",
    "black_jack(9,9,9)"
   ]
  },
  {
   "cell_type": "code",
   "execution_count": 92,
   "metadata": {},
   "outputs": [],
   "source": [
    "# SUMMER OF 69: Return the sum of numbers in an array, except ignore selections of numbers starting with a 6 and extending \n",
    "# to a 9. Every 6 will be followed by 9. Return 0 for no number\n",
    "# Example, summer_69([1,3,5]) => 9, summer_69([4,5,6,7,8,9]) => 9, summer_69([2,1,6,9,11]) => 14"
   ]
  },
  {
   "cell_type": "code",
   "execution_count": 119,
   "metadata": {},
   "outputs": [
    {
     "data": {
      "text/plain": [
       "14"
      ]
     },
     "execution_count": 119,
     "metadata": {},
     "output_type": "execute_result"
    }
   ],
   "source": [
    "def summer_69(array):\n",
    "    index_6=0\n",
    "    index_9=0\n",
    "    a=0\n",
    "    for i in array:\n",
    "        if i==6: \n",
    "            index_6=array.index(6)\n",
    "        elif i==9:\n",
    "            index_9=array.index(9)\n",
    "    for num in array:\n",
    "        if array.index(num)>= index_6 and array.index(num) <= index_9:\n",
    "            continue\n",
    "        else: \n",
    "            a=a+num\n",
    "    return a\n",
    "summer_69([2,1,6,9,11])"
   ]
  },
  {
   "cell_type": "markdown",
   "metadata": {},
   "source": [
    "# Challenging Problems "
   ]
  },
  {
   "cell_type": "code",
   "execution_count": 1,
   "metadata": {},
   "outputs": [],
   "source": [
    "# SPY GAME: Write a function that takes a list of integers, returns True if 007 is in order. \n",
    "# Example, spy_game([1,2,3,4,0,0,7,5]) => True, spy_game([1,0,2,4,0,5,7]) => True, spy_game([1,7,2,0,4,5,0]) => False"
   ]
  },
  {
   "cell_type": "code",
   "execution_count": 9,
   "metadata": {},
   "outputs": [
    {
     "data": {
      "text/plain": [
       "False"
      ]
     },
     "execution_count": 9,
     "metadata": {},
     "output_type": "execute_result"
    }
   ],
   "source": [
    "def spy_game(int_list):\n",
    "    new_list=[] # empty list\n",
    "    for num in int_list:\n",
    "        if num==0 or num==7:\n",
    "            new_list.append(num) # appended the numbers; if the sequence is true then last element in new_list will be 7\n",
    "    return new_list[-1]==7\n",
    "spy_game([1,7,2,0,4,5,0])"
   ]
  },
  {
   "cell_type": "code",
   "execution_count": 10,
   "metadata": {},
   "outputs": [],
   "source": [
    "# COUNT PRIMES: Write a function that returns the number of prime numbers that exists upto and including a given number\n",
    "# Example, count_primes(100) => 25. \n",
    "# By convention, 0 and 1 are not prime. "
   ]
  },
  {
   "cell_type": "code",
   "execution_count": 22,
   "metadata": {},
   "outputs": [
    {
     "data": {
      "text/plain": [
       "10"
      ]
     },
     "execution_count": 22,
     "metadata": {},
     "output_type": "execute_result"
    }
   ],
   "source": [
    "def count_primes(limit):\n",
    "    count=1\n",
    "    for num in range(3,limit+1):\n",
    "        flg=1\n",
    "        for a in range(2,num):\n",
    "            if num%a==0:\n",
    "                flg=0\n",
    "        if flg==1:\n",
    "            count+=1\n",
    "    return count\n",
    "count_primes(30)"
   ]
  },
  {
   "cell_type": "code",
   "execution_count": null,
   "metadata": {},
   "outputs": [],
   "source": [
    "# PRINT BIG: Write a function that takes a single letter and returns a 5*5 representation of the letter "
   ]
  },
  {
   "cell_type": "code",
   "execution_count": 23,
   "metadata": {},
   "outputs": [],
   "source": [
    "# Create a SORTED list of all values from the dictionary \n",
    "# input_dict={'Jack Dorsey':'Twitter','Tim Cook':'Apple','Jeff Bezos':'Amazon','Mukesh Ambani':'RJIO'}"
   ]
  },
  {
   "cell_type": "code",
   "execution_count": 29,
   "metadata": {},
   "outputs": [
    {
     "data": {
      "text/plain": [
       "['Amazon', 'Apple', 'RJIO', 'Twitter']"
      ]
     },
     "execution_count": 29,
     "metadata": {},
     "output_type": "execute_result"
    }
   ],
   "source": [
    "input_dict={'Jack Dorsey':'Twitter','Tim Cook':'Apple','Jeff Bezos':'Amazon','Mukesh Ambani':'RJIO'}\n",
    "dict_list=list(input_dict.values())\n",
    "dict_list.sort()\n",
    "dict_list"
   ]
  },
  {
   "cell_type": "markdown",
   "metadata": {},
   "source": [
    "# 26-Apr-2020 Final Assesment on functions and methods"
   ]
  },
  {
   "cell_type": "code",
   "execution_count": 1,
   "metadata": {},
   "outputs": [],
   "source": [
    "# Write a function that computes volume of a sphere given its radius\n",
    "# hint: volume of sphere=4/3 pi r**3"
   ]
  },
  {
   "cell_type": "code",
   "execution_count": 10,
   "metadata": {},
   "outputs": [
    {
     "data": {
      "text/plain": [
       "[268.19, 523.81]"
      ]
     },
     "execution_count": 10,
     "metadata": {},
     "output_type": "execute_result"
    }
   ],
   "source": [
    "# here utilizing the concept of lambda and map() function\n",
    "my_list=[4,5] # list of all values for which the area is required\n",
    "list(map(lambda num: round((4.0/3.0)*(22.0/7.0)*(num**3),2),my_list))\n",
    "# round() functions used to get upto 2 decimal places"
   ]
  },
  {
   "cell_type": "code",
   "execution_count": 12,
   "metadata": {},
   "outputs": [],
   "source": [
    "# RANGE_CHECK: Write a function that checks whether a number is within the range(inclusive of low and high)\n",
    "# range_check(num,low,high). Example, range_check(3,1,10) => True"
   ]
  },
  {
   "cell_type": "code",
   "execution_count": 108,
   "metadata": {},
   "outputs": [
    {
     "data": {
      "text/plain": [
       "[2]"
      ]
     },
     "execution_count": 108,
     "metadata": {},
     "output_type": "execute_result"
    }
   ],
   "source": [
    "# args can be used here but does not seem to benefit as it is defined that the element at 1 and 2 index will be the range\n",
    "# args is usefull with things like getting sum() of numbers where the parameters are not decided at initial stage\n",
    "def range_check(* args):\n",
    "    return args[0]>=args[1] and args[0]<=args[2]\n",
    "range_check(2,1,4)\n",
    "\n",
    "# or this can be done with the help of range() function\n",
    "def range_check(* args):\n",
    "    return args[0] in range(args[1],args[2])\n",
    "range(2,3,10)"
   ]
  },
  {
   "cell_type": "code",
   "execution_count": 18,
   "metadata": {},
   "outputs": [],
   "source": [
    "# STRING UP LOW: Write a function that accepts a string and count the number of upper case and lower case letters\n",
    "# Example, string_up_low('Hello') => upper case=1; lower case=4"
   ]
  },
  {
   "cell_type": "code",
   "execution_count": 41,
   "metadata": {},
   "outputs": [
    {
     "data": {
      "text/plain": [
       "'Upper case characters: 1 and \\n Lower case characteristics: 4'"
      ]
     },
     "execution_count": 41,
     "metadata": {},
     "output_type": "execute_result"
    }
   ],
   "source": [
    "def string_up_low(string):\n",
    "    upr, low=0, 0\n",
    "    for char in string:\n",
    "        if char.isupper():\n",
    "            upr+=1\n",
    "        elif char.islower():\n",
    "            low+=1\n",
    "    return 'Upper case characters: '+str(upr)+ ' and \\n Lower case characteristics: '+str(low)\n",
    "    # return does not take escape character \\n in consideration\n",
    "    # space is neither lower case nor upper case as like any other special characters\n",
    "string_up_low('Hello')\n",
    "# take a look at collections"
   ]
  },
  {
   "cell_type": "code",
   "execution_count": 43,
   "metadata": {},
   "outputs": [],
   "source": [
    "# UNIQUE_LIST: Write a function that takes a list and returns a new list with unique elements of first list\n",
    "# Example, unique_list(1,1,1,2) => [1,2]"
   ]
  },
  {
   "cell_type": "code",
   "execution_count": 48,
   "metadata": {},
   "outputs": [
    {
     "data": {
      "text/plain": [
       "[1, 2]"
      ]
     },
     "execution_count": 48,
     "metadata": {},
     "output_type": "execute_result"
    }
   ],
   "source": [
    "def unique_list(input_list):\n",
    "    return list(set(input_list))\n",
    "    # set basically contains unique elements so type casted in set and then returned as list\n",
    "unique_list([1,2,1,2])"
   ]
  },
  {
   "cell_type": "code",
   "execution_count": 49,
   "metadata": {},
   "outputs": [],
   "source": [
    "# MULTIPLY: Write a function that multiplies all numbers in a list"
   ]
  },
  {
   "cell_type": "code",
   "execution_count": 55,
   "metadata": {},
   "outputs": [
    {
     "data": {
      "text/plain": [
       "-6"
      ]
     },
     "execution_count": 55,
     "metadata": {},
     "output_type": "execute_result"
    }
   ],
   "source": [
    "def multiply(input_list):\n",
    "    a=1\n",
    "    for num in input_list:\n",
    "        a*=num\n",
    "    return a\n",
    "multiply([1,2,-3])"
   ]
  },
  {
   "cell_type": "code",
   "execution_count": 56,
   "metadata": {},
   "outputs": [],
   "source": [
    "# PALLIMDROME: Write a function to check if the passed string is a pallindrome or not\n",
    "# Example, is_pallindrome('madam') => True, is_pallindrome('nurses run') => True"
   ]
  },
  {
   "cell_type": "code",
   "execution_count": 69,
   "metadata": {},
   "outputs": [
    {
     "data": {
      "text/plain": [
       "True"
      ]
     },
     "execution_count": 69,
     "metadata": {},
     "output_type": "execute_result"
    }
   ],
   "source": [
    "def is_pallindrome(string):\n",
    "    return string.lower().replace(' ','')==string.lower().replace(' ','')[::-1]\n",
    "    # white space is removed with the help of replace method and then string is reversed with string indexing\n",
    "is_pallindrome('nurses run')"
   ]
  },
  {
   "cell_type": "code",
   "execution_count": 71,
   "metadata": {},
   "outputs": [],
   "source": [
    "# PANGRAM: Write a function to check if a string is pangram or not\n",
    "# Hint: Words or sentences that contain every letter of alphabet at least once. \n",
    "# Example, is_pangram('The quick brown fox jumps over a lazy dog') => True\n",
    "# is_pangram('The five boxing wizards jump quickly') => True"
   ]
  },
  {
   "cell_type": "code",
   "execution_count": 100,
   "metadata": {},
   "outputs": [
    {
     "data": {
      "text/plain": [
       "True"
      ]
     },
     "execution_count": 100,
     "metadata": {},
     "output_type": "execute_result"
    }
   ],
   "source": [
    "import string\n",
    "alphabets=string.ascii_lowercase # string module loaded to get all alphabets\n",
    "def is_pangram(input_string):\n",
    "    input_string=input_string.lower().replace(' ','') # removing white space\n",
    "    input_string=sorted(set(input_string)) # type casted into set to get unique elements; sorted() returns list of sorted values\n",
    "    input_string=''.join(input_string)\n",
    "    return alphabets==input_string\n",
    "is_pangram('The five boxing wizards jump quickly')"
   ]
  },
  {
   "cell_type": "markdown",
   "metadata": {},
   "source": [
    "# End of Functions and Methods Assesment"
   ]
  }
 ],
 "metadata": {
  "kernelspec": {
   "display_name": "Python 2",
   "language": "python",
   "name": "python2"
  },
  "language_info": {
   "codemirror_mode": {
    "name": "ipython",
    "version": 2
   },
   "file_extension": ".py",
   "mimetype": "text/x-python",
   "name": "python",
   "nbconvert_exporter": "python",
   "pygments_lexer": "ipython2",
   "version": "2.7.16"
  }
 },
 "nbformat": 4,
 "nbformat_minor": 2
}
