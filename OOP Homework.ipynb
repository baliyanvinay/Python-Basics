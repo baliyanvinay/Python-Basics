{
 "cells": [
  {
   "cell_type": "markdown",
   "metadata": {},
   "source": [
    "# Object Oriented Programming Homework"
   ]
  },
  {
   "cell_type": "code",
   "execution_count": 71,
   "metadata": {},
   "outputs": [],
   "source": [
    "# Create a cylinder class with two methods and a constructor; \n",
    "# Calculate surface_area and volume of cylinder with these methods. Input radius and height of cylinder"
   ]
  },
  {
   "cell_type": "code",
   "execution_count": 67,
   "metadata": {},
   "outputs": [
    {
     "name": "stdout",
     "output_type": "stream",
     "text": [
      "Surface Area: 94.20\n",
      "Volume: 56.52\n"
     ]
    }
   ],
   "source": [
    "class Cylinder():\n",
    "    pi=3.14 # class object: can be accessed using class name\n",
    "    # contructor initialized the variables\n",
    "    def __init__(self,height=1,radius=1):\n",
    "        self.height=height\n",
    "        self.radius=radius\n",
    "    def volume(self):\n",
    "        # πr2h\n",
    "        return Cylinder.pi*(self.radius**2)*self.height\n",
    "    def surface_area(self):\n",
    "        # 2πrh+2πr2\n",
    "        return (2*Cylinder.pi*self.radius*self.height)+(2*Cylinder.pi*self.radius**2)\n",
    "my_cylinder=Cylinder(2,3)\n",
    "print('Surface Area: %0.2f' % my_cylinder.surface_area())\n",
    "print('Volume: %0.2f' % my_cylinder.volume())"
   ]
  },
  {
   "cell_type": "code",
   "execution_count": 68,
   "metadata": {},
   "outputs": [],
   "source": [
    "# Create a Line class with two methods 'slope()' and 'distance()', input two coordinates in form of tuples. \n",
    "# Calculate the distance and slope based on the coordinates"
   ]
  },
  {
   "cell_type": "code",
   "execution_count": 6,
   "metadata": {},
   "outputs": [
    {
     "name": "stdout",
     "output_type": "stream",
     "text": [
      "Distance: 7.21\n",
      "Slope: -1.00\n"
     ]
    }
   ],
   "source": [
    "class Line():\n",
    "    def __init__ (self,p=(1,1),q=(1,1)):\n",
    "        self.p=p\n",
    "        self.q=q\n",
    "    def slope(self):\n",
    "        # y = mx + b\n",
    "        # m = (y2 - y1) / (x2 -x1)\n",
    "        return (self.q[1]-self.q[0])/(self.p[1]-self.p[0])\n",
    "    def distance(self):\n",
    "        # √ (x2 − x1)2 + (y2 − y1)2\n",
    "        return ( (self.q[0]-self.p[0])**2 + (self.q[1]-self.p[1])**2)**0.5\n",
    "in_line=Line((3,2),(7,8))\n",
    "# pass coordinates as tuple\n",
    "# p(x1,y1) and q(x2,y2)\n",
    "print('Distance: %0.2f' % in_line.distance() + '\\nSlope: %0.2f' % in_line.slope())"
   ]
  },
  {
   "cell_type": "markdown",
   "metadata": {},
   "source": [
    "# Object Oriented Programming Challenge"
   ]
  },
  {
   "cell_type": "code",
   "execution_count": 7,
   "metadata": {},
   "outputs": [],
   "source": [
    "# Create an object class of 'Account' which has two methods: deposits() and withdrawl() and two attributes owner and bal\n",
    "# withdrawl() should check the balance in account as it should not exceed available fund"
   ]
  },
  {
   "cell_type": "code",
   "execution_count": 15,
   "metadata": {},
   "outputs": [
    {
     "name": "stdout",
     "output_type": "stream",
     "text": [
      "Amount 2000 deposited. \n",
      "Old Balance: 23000 \n",
      "New Balance: 25000\n",
      "Not enough funds!! \n",
      "Current Balance: 25000\n",
      "Owner: Vinay \n",
      "Current Balance: 25000\n"
     ]
    }
   ],
   "source": [
    "class Account():\n",
    "    def __init__(self,owner,bal=0):\n",
    "        self.owner=owner\n",
    "        self.bal=bal\n",
    "    def deposit(self,amnt):\n",
    "        old_bal=self.bal\n",
    "        self.bal+=amnt\n",
    "        print('Amount {} deposited. \\nOld Balance: {} \\nNew Balance: {}'.format(amnt,old_bal,self.bal))\n",
    "    def withdrawl(self,amnt):\n",
    "        if(self.bal-amnt>=0):\n",
    "            self.bal-=amnt\n",
    "            print('Amonth {} withdrew. \\nCurrent Balance: {}'.format(amnt,self.bal))\n",
    "        else:\n",
    "            print('Not enough funds!! \\nCurrent Balance: {}'.format(self.bal))\n",
    "    def __str__ (self):\n",
    "        return 'Owner: {} \\nCurrent Balance: {}'.format(self.owner,self.bal)\n",
    "        # the special(magic/dunder) method should return the value cause it is anyway being printed when print calls object\n",
    "new_account=Account('Vinay',23000)\n",
    "new_account.deposit(2000)\n",
    "new_account.withdrawl(200000)\n",
    "print(new_account)"
   ]
  },
  {
   "cell_type": "code",
   "execution_count": null,
   "metadata": {},
   "outputs": [],
   "source": []
  }
 ],
 "metadata": {
  "kernelspec": {
   "display_name": "Python 2",
   "language": "python",
   "name": "python2"
  },
  "language_info": {
   "codemirror_mode": {
    "name": "ipython",
    "version": 2
   },
   "file_extension": ".py",
   "mimetype": "text/x-python",
   "name": "python",
   "nbconvert_exporter": "python",
   "pygments_lexer": "ipython2",
   "version": "2.7.16"
  }
 },
 "nbformat": 4,
 "nbformat_minor": 2
}
