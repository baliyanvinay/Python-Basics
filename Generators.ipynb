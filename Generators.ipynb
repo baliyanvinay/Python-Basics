{
 "cells": [
  {
   "cell_type": "markdown",
   "metadata": {},
   "source": [
    "# Generators in Python"
   ]
  },
  {
   "cell_type": "code",
   "execution_count": 7,
   "metadata": {},
   "outputs": [
    {
     "name": "stdout",
     "output_type": "stream",
     "text": [
      "3\n",
      "1\n",
      "4\n",
      "9\n"
     ]
    }
   ],
   "source": [
    "# Create a generator that returns the square of number upto N \n",
    "def square(N):\n",
    "    for num in range(1,N+1):\n",
    "        yield num**2\n",
    "for x in square(int(raw_input())):\n",
    "    print(x)"
   ]
  },
  {
   "cell_type": "code",
   "execution_count": 8,
   "metadata": {},
   "outputs": [
    {
     "name": "stdout",
     "output_type": "stream",
     "text": [
      "1 10\n",
      "12\n",
      "7\n",
      "9\n",
      "3\n",
      "4\n",
      "1\n",
      "2\n",
      "7\n",
      "3\n",
      "1\n",
      "3\n",
      "8\n",
      "4\n"
     ]
    }
   ],
   "source": [
    "# Create a generator that yields n random numbers between a low and high number(user input)\n",
    "import random\n",
    "\n",
    "def random_num(low,high,n):\n",
    "    for x in range(n):\n",
    "        yield random.randint(low,high)\n",
    "\n",
    "low, high=map(int, raw_input().strip().split())\n",
    "n=int(raw_input())\n",
    "for num in random_num(low,high,n):\n",
    "    print(num)"
   ]
  },
  {
   "cell_type": "code",
   "execution_count": 13,
   "metadata": {},
   "outputs": [
    {
     "name": "stdout",
     "output_type": "stream",
     "text": [
      "hello\n",
      "h\n",
      "e\n",
      "l\n",
      "l\n",
      "o\n"
     ]
    }
   ],
   "source": [
    "# use iter() function to convert a string into a iterator\n",
    "string=str(raw_input())\n",
    "iter_str=iter(string)\n",
    "for _ in iter_str:\n",
    "    print(_)"
   ]
  },
  {
   "cell_type": "code",
   "execution_count": 16,
   "metadata": {},
   "outputs": [
    {
     "data": {
      "text/plain": [
       "'\\nGenerator saves the state of the function. The next time the function is called, \\nexecution continues from where it left off, with the same variable values it had before yielding.\\n'"
      ]
     },
     "execution_count": 16,
     "metadata": {},
     "output_type": "execute_result"
    }
   ],
   "source": [
    "# Explain the use case of generator using yield statement where you would not want to use a normal function\n",
    "\"\"\"\n",
    "Generator saves the state of the function. The next time the function is called, \n",
    "execution continues from where it left off, with the same variable values it had before yielding.\n",
    "\"\"\""
   ]
  },
  {
   "cell_type": "code",
   "execution_count": 18,
   "metadata": {},
   "outputs": [
    {
     "name": "stdout",
     "output_type": "stream",
     "text": [
      "<type 'generator'>\n",
      "4\n",
      "5\n"
     ]
    }
   ],
   "source": [
    "# Generator comprehension\n",
    "my_list=[1,2,3,4,5]\n",
    "gencomp=(item for item in my_list if item>3) # this is how a generator comprehension is done, with paranthethis\n",
    "# print(type(gencomp))\n",
    "for item in gencomp:\n",
    "    print(item)"
   ]
  },
  {
   "cell_type": "code",
   "execution_count": null,
   "metadata": {},
   "outputs": [],
   "source": []
  }
 ],
 "metadata": {
  "kernelspec": {
   "display_name": "Python 2",
   "language": "python",
   "name": "python2"
  },
  "language_info": {
   "codemirror_mode": {
    "name": "ipython",
    "version": 2
   },
   "file_extension": ".py",
   "mimetype": "text/x-python",
   "name": "python",
   "nbconvert_exporter": "python",
   "pygments_lexer": "ipython2",
   "version": "2.7.16"
  }
 },
 "nbformat": 4,
 "nbformat_minor": 2
}
