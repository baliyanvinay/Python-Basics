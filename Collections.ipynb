{
 "cells": [
  {
   "cell_type": "markdown",
   "metadata": {},
   "source": [
    "# Collections Module : High-performance container datatypes"
   ]
  },
  {
   "cell_type": "markdown",
   "metadata": {},
   "source": [
    "# namedtuple"
   ]
  },
  {
   "cell_type": "code",
   "execution_count": 1,
   "metadata": {},
   "outputs": [],
   "source": [
    "# Named Tuple: Normal tuple does not support item assignment means they are immutable object, with namedtuple functions \n",
    "# such as replace help in item assignment"
   ]
  },
  {
   "cell_type": "code",
   "execution_count": 6,
   "metadata": {},
   "outputs": [],
   "source": [
    "color=(55,155,244) # normal tuple"
   ]
  },
  {
   "cell_type": "code",
   "execution_count": 18,
   "metadata": {},
   "outputs": [
    {
     "name": "stdout",
     "output_type": "stream",
     "text": [
      "Student(name='Vinay', id=17, s_class=16, marks=100)\n"
     ]
    }
   ],
   "source": [
    "# namedtuple\n",
    "from collections import namedtuple\n",
    "Student=namedtuple('Student','name, id, s_class, marks') # attributes of a namedtuple can't be class so s_class\n",
    "stu1=Student('Vinay',17,16,100)\n",
    "print(stu1)"
   ]
  },
  {
   "cell_type": "code",
   "execution_count": 21,
   "metadata": {},
   "outputs": [
    {
     "name": "stdout",
     "output_type": "stream",
     "text": [
      "Student(name='Vinay', id=17, s_class=16, marks=100)\n",
      "Student(name='Shiva', id=13, s_class=17, marks=200)\n"
     ]
    }
   ],
   "source": [
    "# named tuples with list\n",
    "from collections import namedtuple\n",
    "Student=namedtuple('Student','name id s_class marks')\n",
    "stu=[]\n",
    "stu.append(Student('Vinay',17,16,100))\n",
    "stu.append(Student('Shiva',13,17,200))\n",
    "for el in stu:\n",
    "    print el"
   ]
  },
  {
   "cell_type": "code",
   "execution_count": 23,
   "metadata": {},
   "outputs": [
    {
     "name": "stdout",
     "output_type": "stream",
     "text": [
      "ID MARKS NAME CLASS\n",
      "Employee(ID=12, MARKS=100, NAME='Vinay', CLASS=17)\n"
     ]
    }
   ],
   "source": [
    "# Creating a namedtuped based on user's input\n",
    "# User_Input :: ID MARKS NAME CLASS \n",
    "from collections import namedtuple\n",
    "Employee=namedtuple('Employee',raw_input())\n",
    "e1=Employee(12,100, 'Vinay',17)\n",
    "print(e1)"
   ]
  },
  {
   "cell_type": "code",
   "execution_count": 31,
   "metadata": {},
   "outputs": [
    {
     "name": "stdout",
     "output_type": "stream",
     "text": [
      "5\n",
      "ID MARKS NAME CLASS\n",
      "1 97 Raymond 7\n",
      "2 50 Steven 4\n",
      "3 91 Adrian 9\n",
      "4 72 Stewart 5\n",
      "5 80 Peter 6\n",
      "Student(ID='1', MARKS='97', NAME='Raymond', CLASS='7')\n",
      "Student(ID='2', MARKS='50', NAME='Steven', CLASS='4')\n",
      "Student(ID='3', MARKS='91', NAME='Adrian', CLASS='9')\n",
      "Student(ID='4', MARKS='72', NAME='Stewart', CLASS='5')\n",
      "Student(ID='5', MARKS='80', NAME='Peter', CLASS='6')\n"
     ]
    }
   ],
   "source": [
    "# Creating a nametuple to get the students' data\n",
    "from collections import namedtuple\n",
    "n=int(input())\n",
    "Student=namedtuple('Student',raw_input()) # creating namedtuple student based on user's input\n",
    "stu=[] # list to hold nametuple or each value of n\n",
    "for _ in range(n):\n",
    "    a,b,c,d=raw_input().split()\n",
    "    stu.append(Student(a,b,c,d))\n",
    "for el in stu:\n",
    "    print el"
   ]
  },
  {
   "cell_type": "code",
   "execution_count": 38,
   "metadata": {},
   "outputs": [
    {
     "name": "stdout",
     "output_type": "stream",
     "text": [
      "78.0\n"
     ]
    }
   ],
   "source": [
    "# to get average of all students' marks\n",
    "avg=0.0\n",
    "for el in stu:\n",
    "    avg+=int(el.MARKS)\n",
    "print(avg/n)"
   ]
  },
  {
   "cell_type": "markdown",
   "metadata": {},
   "source": [
    "# defaultdict"
   ]
  },
  {
   "cell_type": "code",
   "execution_count": 39,
   "metadata": {},
   "outputs": [],
   "source": [
    "# defaultdict is the subclass of built in dict class. It overrides one method and adds one writable instance variable. \n",
    "# The remaining functionality is the same as for the dict class\n",
    "# he functionality of both dictionaries and defualtdict are almost same except for the fact that \n",
    "# defualtdict never raises a KeyError. It provides a default value for the key that does not exists."
   ]
  },
  {
   "cell_type": "code",
   "execution_count": 40,
   "metadata": {},
   "outputs": [
    {
     "name": "stdout",
     "output_type": "stream",
     "text": [
      "{'age': 25, 'name': 'Vinay'}\n"
     ]
    }
   ],
   "source": [
    "# normal dict\n",
    "new_dict={'age': 25, 'name':'Vinay'}\n",
    "print(new_dict)"
   ]
  },
  {
   "cell_type": "code",
   "execution_count": 51,
   "metadata": {},
   "outputs": [
    {
     "name": "stdout",
     "output_type": "stream",
     "text": [
      "Not Present\n"
     ]
    }
   ],
   "source": [
    "# defaultdict comes handy when you traverse key which is not in the dict\n",
    "from collections import defaultdict\n",
    "new_default_dict=defaultdict(lambda: \"Not Present\")\n",
    "new_default_dict['age']=25\n",
    "new_default_dict['name']='Vinay'\n",
    "print(new_default_dict['age1'])"
   ]
  },
  {
   "cell_type": "code",
   "execution_count": 56,
   "metadata": {},
   "outputs": [
    {
     "name": "stdout",
     "output_type": "stream",
     "text": [
      "3 2\n",
      "a\n",
      "a\n",
      "b\n",
      "a\n",
      "b\n",
      "Appearance of elements in list\n",
      "2\n",
      "1\n"
     ]
    }
   ],
   "source": [
    "from collections import defaultdict\n",
    "from collections import Counter\n",
    "n,m=map(int,raw_input().split())\n",
    "letters=[]\n",
    "for _ in range(n):\n",
    "    letters.append(raw_input())\n",
    "check=[]\n",
    "for _ in range(m):\n",
    "    check.append(raw_input())\n",
    "new_dd=defaultdict(lambda:-1)\n",
    "new_dd=Counter(letters)\n",
    "print('Appearance of elements in list')\n",
    "for el in check:\n",
    "    print(new_dd[el])"
   ]
  },
  {
   "cell_type": "code",
   "execution_count": null,
   "metadata": {},
   "outputs": [],
   "source": []
  }
 ],
 "metadata": {
  "kernelspec": {
   "display_name": "Python 2",
   "language": "python",
   "name": "python2"
  },
  "language_info": {
   "codemirror_mode": {
    "name": "ipython",
    "version": 2
   },
   "file_extension": ".py",
   "mimetype": "text/x-python",
   "name": "python",
   "nbconvert_exporter": "python",
   "pygments_lexer": "ipython2",
   "version": "2.7.16"
  }
 },
 "nbformat": 4,
 "nbformat_minor": 2
}
