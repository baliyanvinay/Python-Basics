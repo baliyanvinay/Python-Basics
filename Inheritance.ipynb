{
 "cells": [
  {
   "cell_type": "code",
   "execution_count": 100,
   "metadata": {},
   "outputs": [
    {
     "name": "stdout",
     "output_type": "stream",
     "text": [
      "Heraldo Memelli 8135627\n",
      "2\n",
      "100\n",
      "('Name:', 'Memelli,', 'Heraldo')\n",
      "('ID:', '8135627')\n",
      "('Grade:', 'O')\n"
     ]
    }
   ],
   "source": [
    "# Parent Class\n",
    "class Person:\n",
    "    def __init__(self, firstName, lastName, idNumber):\n",
    "        self.firstName = firstName\n",
    "        self.lastName = lastName\n",
    "        self.idNumber = idNumber\n",
    "    def printPerson(self):\n",
    "        print(\"Name:\", self.lastName + \",\", self.firstName)\n",
    "        print(\"ID:\", self.idNumber)\n",
    "\n",
    "# Child Class\n",
    "class Student(Person):\n",
    "    def __init__(self, firstName, lastName, idNumber, scores):\n",
    "        # calling constructor of the parent class to initialize\n",
    "        Person.__init__(self, firstName, lastName, idNumber)\n",
    "        self.testScores = scores\n",
    "\n",
    "    def calculate(self):\n",
    "        average = 0\n",
    "        for i in self.testScores:\n",
    "            average += i\n",
    "        average = average / len(self.testScores)\n",
    "        if(average >= 90):\n",
    "            return 'O' # Outstanding\n",
    "        elif(average >= 80):\n",
    "            return 'E' # Exceeds Expectations\n",
    "        elif(average >= 70):\n",
    "            return 'A' # Acceptable\n",
    "        elif(average >= 55):\n",
    "            return 'P' # Poor\n",
    "        elif(average >= 40):\n",
    "            return 'D' # Dreadful\n",
    "        else:\n",
    "            return 'T' # Troll\n",
    "\n",
    "line = raw_input().split()\n",
    "firstName = line[0]\n",
    "lastName = line[1]\n",
    "idNum = line[2]\n",
    "numScores = int(raw_input()) # not needed for Python\n",
    "scores = list( map(int, raw_input().split()) )\n",
    "s = Student(firstName, lastName, idNum, scores)\n",
    "s.printPerson()\n",
    "print(\"Grade:\", s.calculate())"
   ]
  },
  {
   "cell_type": "code",
   "execution_count": 10,
   "metadata": {},
   "outputs": [
    {
     "name": "stdout",
     "output_type": "stream",
     "text": [
      "2\n",
      "1 5\n",
      "4\n"
     ]
    }
   ],
   "source": [
    "# Maximum difference between integers in a given list using class\n",
    "class Difference:\n",
    "    def __init__(self, a):\n",
    "        self.__elements = a\n",
    "\n",
    "    # Add your code here\n",
    "    def computeDifference(self):\n",
    "        self.__elements.sort()\n",
    "        self.maximumDifference= abs(self.__elements[0]-self.__elements[-1])\n",
    "# End of Difference class\n",
    "\n",
    "_ = raw_input()\n",
    "# Input separeted by space\n",
    "a = [int(e) for e in raw_input().split(' ')]\n",
    "\n",
    "d = Difference(a)\n",
    "d.computeDifference()\n",
    "\n",
    "print(d.maximumDifference)"
   ]
  },
  {
   "cell_type": "code",
   "execution_count": null,
   "metadata": {},
   "outputs": [],
   "source": [
    "# Abstract Class\n",
    "from abc import ABCMeta, abstractmethod\n",
    "class Book(object, metaclass=ABCMeta):\n",
    "    def __init__(self,title,author):\n",
    "        self.title=title\n",
    "        self.author=author   \n",
    "    @abstractmethod\n",
    "    def display(): pass\n",
    "\n",
    "#Write MyBook class\n",
    "class MyBook(Book):\n",
    "    def __init__(self,title,author,price):\n",
    "        Book.__init__(self, title, author)\n",
    "        self.price = price\n",
    "    def display(self):\n",
    "        print('Title: {}'.format(self.title))\n",
    "        print('Author: {}'.format(self.author))\n",
    "        print('Price: {}'.format(self.price))\n",
    "\n",
    "title=raw_input()\n",
    "author=raw_input()\n",
    "price=int(raw_input())\n",
    "new_novel=MyBook(title,author,price)\n",
    "new_novel.display()"
   ]
  }
 ],
 "metadata": {
  "kernelspec": {
   "display_name": "Python 2",
   "language": "python",
   "name": "python2"
  },
  "language_info": {
   "codemirror_mode": {
    "name": "ipython",
    "version": 2
   },
   "file_extension": ".py",
   "mimetype": "text/x-python",
   "name": "python",
   "nbconvert_exporter": "python",
   "pygments_lexer": "ipython2",
   "version": "2.7.16"
  }
 },
 "nbformat": 4,
 "nbformat_minor": 2
}
