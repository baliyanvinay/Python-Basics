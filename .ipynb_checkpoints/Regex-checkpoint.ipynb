{
 "cells": [
  {
   "cell_type": "markdown",
   "metadata": {},
   "source": [
    "# REGULAR EXPRESSION  by DOSHI :: HACKER RANK"
   ]
  },
  {
   "cell_type": "code",
   "execution_count": 1,
   "metadata": {},
   "outputs": [],
   "source": [
    "# A regular expression is a sequence of characters that define a search pattern. \n",
    "# It is mainly used for string pattern matching."
   ]
  },
  {
   "cell_type": "code",
   "execution_count": 2,
   "metadata": {},
   "outputs": [
    {
     "name": "stdout",
     "output_type": "stream",
     "text": [
      "what hackerrank does is very good and hackerrank is also a good option to learn programming for hackerrank1\n",
      "('Number of matches :', 3)\n"
     ]
    }
   ],
   "source": [
    "import re\n",
    "\n",
    "Regex_Pattern = r'hackerrank'\t# Do not delete 'r'. \n",
    "Test_String = raw_input()\n",
    "match = re.findall(Regex_Pattern, Test_String)\n",
    "\n",
    "print(\"Number of matches :\", len(match))"
   ]
  },
  {
   "cell_type": "code",
   "execution_count": 1,
   "metadata": {},
   "outputs": [
    {
     "name": "stdout",
     "output_type": "stream",
     "text": [
      "\\nThis shall not be printed in new line\n"
     ]
    }
   ],
   "source": [
    "# \\s matches any whitespace character [ \\r\\n\\t\\f ] \\S is the compliment of \\s and result of \\S=Total Set-\\s\n",
    "# \\r returns \\n newline \\t tab \\f\n",
    "regex_patter=r\"\\S{2}\\s\\S{2}\\s\\S{2}\"\n",
    "# pattern: XXxXXxXX\n",
    "# Here, x denotes whitespace characters, and X denotes non-white space characters.\n",
    "\n",
    "# r means it is gonna treat the string pattern as raw string and will count even any escape expression\n",
    "string=r'\\nThis shall not be printed in new line'\n",
    "print(string)"
   ]
  },
  {
   "cell_type": "code",
   "execution_count": 24,
   "metadata": {},
   "outputs": [
    {
     "name": "stdout",
     "output_type": "stream",
     "text": [
      "www.hackerrank.com\n"
     ]
    }
   ],
   "source": [
    "# \\w will match any word character. Word characters include alphanumeric characters (a-z,A-Z and 0-9) and underscores (_).\n",
    "# \\W matches any non-word character.\n",
    "import re\n",
    "regex_pattern = re.compile(r\"\\w{3}\\W\\w{10}\\W\\w{3}\")\n",
    "# pattern: xxxXxxxxxxxxxxXxxx\n",
    "# Here, x denotes any word character and X denotes any non word character\n",
    "# for example, $ is non word character, 'www.hackerrank.com'\n",
    "string='www.hackerrank.com'\n",
    "regex_result=regex_pattern.search(string)\n",
    "print(regex_result.group() )"
   ]
  },
  {
   "cell_type": "code",
   "execution_count": 30,
   "metadata": {},
   "outputs": [
    {
     "name": "stdout",
     "output_type": "stream",
     "text": [
      "True\n"
     ]
    }
   ],
   "source": [
    "# Caret ^ symbol matches the position at the start of a string.\n",
    "# For example, ^123 will match with 12345123 only the first 123 as output or as count\n",
    "# The $ symbol matches the position at the end of a string.\n",
    "# Consider a string of 6 characters starting with digit and following 5 any word chacters\n",
    "regex_pattern=r\"\\d\\w{4}\\W$\"\n",
    "# \\W means that it is gonna be a special character $ checks that the following patter of 6 characters are followed or not\n",
    "# if characters are more than 6 then the result is gonna be false\n",
    "string='6abcd.'\n",
    "print(bool(re.search(regex_pattern,string)))"
   ]
  },
  {
   "cell_type": "code",
   "execution_count": 34,
   "metadata": {},
   "outputs": [
    {
     "name": "stdout",
     "output_type": "stream",
     "text": [
      "True\n"
     ]
    }
   ],
   "source": [
    "# The character class [ ] matches only one out of several characters placed inside the square brackets.\n",
    "# For example, regex_patter= r\"^[aeiou]\", string='a is a vowel'\n",
    "# String must be of length: 6\n",
    "# First character: 1, 2 or 3\n",
    "# Second character: 1, 2 or 0\n",
    "# Third character: x, s or 0\n",
    "# Fourth character: 3, 0 , A or a\n",
    "# Fifth character: x, s or u\n",
    "# Sixth character: . or ,\n",
    "\n",
    "regex_pattern=r\"^[1-3][0-2][x,s,0][0,3,a,A][x,s,u][.,,]$\"\n",
    "string='1203x,'\n",
    "print(bool(re.search(regex_pattern,string)))"
   ]
  },
  {
   "cell_type": "code",
   "execution_count": 35,
   "metadata": {},
   "outputs": [
    {
     "name": "stdout",
     "output_type": "stream",
     "text": [
      "True\n"
     ]
    }
   ],
   "source": [
    "# The negated character class [^] matches any character that is not in the square brackets.\n",
    "# String must be of length 6.\n",
    "# First character should not be a digit (0-9).\n",
    "# Second character should not be a lowercase vowel (aeiou).\n",
    "# Third character should not be b, c, D or F.\n",
    "# Fourth character should not be a whitespace character ( \\r, \\n, \\t, \\f or <space> ).\n",
    "# Fifth character should not be a uppercase vowel (AEIOU).\n",
    "# Sixth character should not be a . or , symbol.\n",
    "\n",
    "regex_pattern=r\"^[^0-9][^aeiou][^c,D-F]\\S[^AEIOU][^.,,]$\"\n",
    "string='think?'\n",
    "print(bool(re.search(regex_pattern,string)))"
   ]
  },
  {
   "cell_type": "code",
   "execution_count": 38,
   "metadata": {},
   "outputs": [
    {
     "name": "stdout",
     "output_type": "stream",
     "text": [
      "False\n"
     ]
    }
   ],
   "source": [
    "# The string's length is >=5.\n",
    "# The first character must be a lowercase English alphabetic character.\n",
    "# The second character must be a positive digit. Note that we consider zero to be neither positive nor negative.\n",
    "# The third character must not be a lowercase English alphabetic character.\n",
    "# The fourth character must not be an uppercase English alphabetic character.\n",
    "# The fifth character must be an uppercase English alphabetic character\n",
    "\n",
    "regex_pattern=r\"^[a-z][1-9][^a-z][^A-Z][A-Z]\"\n",
    "string='a0$?ZWe'\n",
    "print(bool(re.search(regex_pattern,string)))"
   ]
  },
  {
   "cell_type": "code",
   "execution_count": 3,
   "metadata": {},
   "outputs": [
    {
     "name": "stdout",
     "output_type": "stream",
     "text": [
      "47\n",
      "False\n"
     ]
    }
   ],
   "source": [
    "# Write a regex expression where the string length is equal to 45 and first 40 can be uppercase, lowercase and even digits.\n",
    "# The last 5 characters should consist of odd digits or whitespace characters.\n",
    "regex_pattern=r\"^[02468a-zA-Z]{40}[13579\\s]{5}$\"\n",
    "string='2222222222aaaaaaaaaa2222222222aaaaaaaaaa'\n",
    "string='x4202v2A22A8a6aaaaaa2G2222m222qwertyYuIo1395779'\n",
    "print(len(string))\n",
    "print(bool(re.search(regex_pattern,string)))"
   ]
  },
  {
   "cell_type": "code",
   "execution_count": 1,
   "metadata": {},
   "outputs": [
    {
     "name": "stdout",
     "output_type": "stream",
     "text": [
      "True\n"
     ]
    }
   ],
   "source": [
    "# The {x,y} tool will match between x and y (both inclusive) repetitions of character/character class/group.\n",
    "# For Example: w{3,5} : It will match the character w 3, 4 or 5 times.\n",
    "# [xyz]{5,} : It will match the character x, y or z 5 or more times.\n",
    "# \\d{1, 4} : It will match any digits 1, 2, 3, or 4 time\n",
    "\n",
    "# Write a regex expression where string should begin with 1,2 digits, after that string should have 3 or more letters(u/l)\n",
    "# Then string should end upto 3 '.' symbols {0,3}\n",
    "\n",
    "import re\n",
    "regex_pattern=r\"^\\d{1,2}[a-zA-Z]{3,}[.]{0,3}$\"\n",
    "string='3threeormorealphabets.'\n",
    "print(bool(re.search(regex_pattern,string)))"
   ]
  },
  {
   "cell_type": "code",
   "execution_count": 6,
   "metadata": {},
   "outputs": [
    {
     "name": "stdout",
     "output_type": "stream",
     "text": [
      "False\n"
     ]
    }
   ],
   "source": [
    "# The * tool will match zero or more repetitions of character/character class/group.* is equivalent to {0,}\n",
    "# w* : It will match the character w 0 or more times.\n",
    "# [xyz]* : It will match the characters x, y or z 0 or more times.\n",
    "# \\d* : It will match any digit 0 or more times.\n",
    "\n",
    "# Write a regex expression where string should begin with 2 or more digits, after that string should have 0 or more\n",
    "# lowercase letter and then string should end with 0 or more uppercase letters.\n",
    "\n",
    "regex_pattern=r\"^\\d{2,}[a-z]*[A-Z]*$\"\n",
    "string='1akldflkvnlDFVDFVDFVD'\n",
    "print(bool(re.search(regex_pattern,string)))"
   ]
  },
  {
   "cell_type": "code",
   "execution_count": 7,
   "metadata": {},
   "outputs": [
    {
     "name": "stdout",
     "output_type": "stream",
     "text": [
      "True\n"
     ]
    }
   ],
   "source": [
    "# The + tool will match one or more repetitions of character/character class/group.\n",
    "# w+ : It will match the character w 1 or more times.\n",
    "# [xyz]+ : It will match the characters x, y or z 1 or more times.\n",
    "# \\d+ : It will match any digit 1 or more times.\n",
    "\n",
    "# Write a regex expression where string should begin with 1 or more digits, after that string should have 1 or more\n",
    "# uppercase letter and then string should end with 1 or more lowercase letters.\n",
    "\n",
    "regex_pattern=r\"^\\d+[A-Z]+[a-z]+$\"\n",
    "string='1DFVDFVDFVDakldflkvnl'\n",
    "print(bool(re.search(regex_pattern,string)))"
   ]
  },
  {
   "cell_type": "code",
   "execution_count": 18,
   "metadata": {},
   "outputs": [
    {
     "name": "stdout",
     "output_type": "stream",
     "text": [
      "True\n"
     ]
    }
   ],
   "source": [
    "# The $ boundary matcher matches an occurrence of a character/character class/group at the end of a line.\n",
    "# Write a regex expression where string should consist of only lowercase and uppercase letters (no numbers or symbols) \n",
    "# and should end in s.\n",
    "\n",
    "regex_pattern=r\"^[a-zA-Z]*[s]$\"\n",
    "string='s'\n",
    "print(bool(re.search(regex_pattern,string)))"
   ]
  },
  {
   "cell_type": "code",
   "execution_count": 34,
   "metadata": {},
   "outputs": [
    {
     "name": "stdout",
     "output_type": "stream",
     "text": [
      "True\n"
     ]
    }
   ],
   "source": [
    "# \\b assert position at a word boundary.\n",
    "# Three different positions qualify for word boundaries :\n",
    "# ► Before the first character in the string, if the first character is a word character.\n",
    "# ► Between two characters in the string, where one is a word character and the other is not a word character.\n",
    "# ► After the last character in the string, if the last character is a word character.\n",
    "\n",
    "# Write a regex which will match word starting with vowel (a,e,i,o, u, A, E, I , O or U).\n",
    "# The matched word can be of any length. The matched word should consist of letters (lowercase and uppercase both) only.\n",
    "# The matched word must start and end with a word boundary.\n",
    "\n",
    "regex_pattern=r\"\\b[AEIOUaeiou][a-zA-Z]*\\b\"\n",
    "string='Ajaya'\n",
    "print(bool(re.search(regex_pattern,string)))"
   ]
  },
  {
   "cell_type": "code",
   "execution_count": 4,
   "metadata": {},
   "outputs": [
    {
     "name": "stdout",
     "output_type": "stream",
     "text": [
      "5\n"
     ]
    }
   ],
   "source": [
    "import re\n",
    "string='saveChangesInTheEditor'\n",
    "Regex_Pattern=r\"[A-Z]\"\n",
    "match = re.findall(Regex_Pattern, string)\n",
    "print(len(match)+1)"
   ]
  },
  {
   "cell_type": "code",
   "execution_count": 44,
   "metadata": {},
   "outputs": [
    {
     "name": "stdout",
     "output_type": "stream",
     "text": [
      "True\n"
     ]
    }
   ],
   "source": [
    "# from a given string, verify if it is an email address, print name of the user is the address is of gmail domain\n",
    "# email address consists of lower case [a-z], @ and a dot \n",
    "import re\n",
    "string='manojkumar@gmail.com'\n",
    "regex_pattern=r\"[a-z]+@gmail.com$\"\n",
    "print(bool(re.search(regex_pattern,string)))"
   ]
  },
  {
   "cell_type": "code",
   "execution_count": 2,
   "metadata": {},
   "outputs": [
    {
     "name": "stdout",
     "output_type": "stream",
     "text": [
      "False\n"
     ]
    }
   ],
   "source": [
    "import re\n",
    "string='ab'\n",
    "regex_pattern=r\"\\d\"\n",
    "print(bool(re.search(regex_pattern,string)))"
   ]
  },
  {
   "cell_type": "code",
   "execution_count": 40,
   "metadata": {},
   "outputs": [
    {
     "name": "stdout",
     "output_type": "stream",
     "text": [
      "False\n"
     ]
    }
   ],
   "source": [
    "# Checking if a given string is a floating point number\n",
    "import re\n",
    "regex_pattern=r\"^[-+]?[0-9]*\\.[0-9]+$\"\n",
    "string='123..42'\n",
    "print(bool(re.search(regex_pattern,string)))"
   ]
  },
  {
   "cell_type": "code",
   "execution_count": 9,
   "metadata": {},
   "outputs": [
    {
     "name": "stdout",
     "output_type": "stream",
     "text": [
      "aaadaa\n",
      "aa\n",
      "()\n"
     ]
    }
   ],
   "source": [
    "# https://www.hackerrank.com/challenges/re-start-re-end/problem\n",
    "import re\n",
    "string, k=raw_input(),raw_input()\n",
    "regex_pattern = re.compile(k)\n",
    "regex_result=regex_pattern.search(string)\n",
    "print(regex_result.groups())"
   ]
  },
  {
   "cell_type": "code",
   "execution_count": 1,
   "metadata": {},
   "outputs": [
    {
     "name": "stdout",
     "output_type": "stream",
     "text": [
      "True\n"
     ]
    }
   ],
   "source": [
    "# Check any email\n",
    "import re\n",
    "string='name@tcs.de'\n",
    "regex_pattern=r\"^[a-z0-9]+[\\w.\\-]*\\@[a-z]+\\.[a-z]{1,3}$\"\n",
    "print(bool(re.search(regex_pattern,string)))"
   ]
  },
  {
   "cell_type": "code",
   "execution_count": null,
   "metadata": {},
   "outputs": [],
   "source": []
  }
 ],
 "metadata": {
  "kernelspec": {
   "display_name": "Python 3",
   "language": "python",
   "name": "python3"
  },
  "language_info": {
   "codemirror_mode": {
    "name": "ipython",
    "version": 3
   },
   "file_extension": ".py",
   "mimetype": "text/x-python",
   "name": "python",
   "nbconvert_exporter": "python",
   "pygments_lexer": "ipython3",
   "version": "3.8.3"
  }
 },
 "nbformat": 4,
 "nbformat_minor": 2
}
