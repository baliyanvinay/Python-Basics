{
 "cells": [
  {
   "cell_type": "code",
   "execution_count": 191,
   "metadata": {},
   "outputs": [],
   "source": [
    "# Linkedlist class\n",
    "class Linkedlist(object):\n",
    "    def __init__(self):\n",
    "        self.head=None\n",
    "        self.tail=None\n",
    "    \n",
    "    #function to insert the nodes at tail :: in place insertion\n",
    "    def insertNodes(self,element):\n",
    "        new_node=Node(element)\n",
    "        if(self.head==None):\n",
    "            self.head=new_node\n",
    "            self.tail=new_node\n",
    "        else:\n",
    "            curr_node=self.head\n",
    "            while(curr_node.next!=None): # while curr_node.next!=None will give us the tail node\n",
    "                curr_node=curr_node.next\n",
    "            curr_node.next=new_node\n",
    "            self.tail=curr_node.next\n",
    "    \n",
    "    # method to insert nodes using recursion using the head of linked_list\n",
    "    def insertNodesRecursion(self,head):\n",
    "        pass\n",
    "    \n",
    "    # method to print all nodes of linked_list :: in place printing\n",
    "    def printNodes(self):\n",
    "        curr_node=self.head\n",
    "        while(curr_node):\n",
    "            print(curr_node.data)\n",
    "            curr_node=curr_node.next\n",
    "            \n",
    "    # method to reverse the linkedlist nodes :: inline reverse Nodes\n",
    "    def reverseNodes(self):\n",
    "        curr_node=self.head\n",
    "        prev_node=None\n",
    "        next_node=None\n",
    "        \n",
    "        while(curr_node):\n",
    "            next_node=curr_node.next\n",
    "            curr_node.next=prev_node\n",
    "            prev_node=curr_node\n",
    "            curr_node=next_node\n",
    "        self.head=prev_node\n",
    "    \n",
    "    #returns the size of linked_list\n",
    "    def size(self):\n",
    "        curr_node=self.head\n",
    "        count=0\n",
    "        while(curr_node):\n",
    "            curr_node=curr_node.next\n",
    "            count+=1\n",
    "        return count\n",
    "    \n",
    "    #head node as parameter, nth value as integer and returns the nth node from last or tail\n",
    "    def nth_node_from_last(self,n):\n",
    "        curr_node=self.head\n",
    "        n=self.size()-n\n",
    "        while(n!=0):\n",
    "            n-=1\n",
    "            curr_node=curr_node.next\n",
    "        return curr_node.data"
   ]
  },
  {
   "cell_type": "code",
   "execution_count": 192,
   "metadata": {},
   "outputs": [],
   "source": [
    "# nodes of linked_list\n",
    "class Node(object):\n",
    "    def __init__(self,data):\n",
    "        self.data=data\n",
    "        self.next=None"
   ]
  },
  {
   "cell_type": "code",
   "execution_count": 193,
   "metadata": {},
   "outputs": [],
   "source": [
    "new_linked_list=Linkedlist() # created a new linked list"
   ]
  },
  {
   "cell_type": "code",
   "execution_count": 194,
   "metadata": {},
   "outputs": [],
   "source": [
    "elements_for_linked_list=[2,5,3,7] # needs to be inserted into the linked list\n",
    "for el in elements_for_linked_list:\n",
    "    new_linked_list.insertNodes(el)"
   ]
  },
  {
   "cell_type": "code",
   "execution_count": 195,
   "metadata": {},
   "outputs": [
    {
     "name": "stdout",
     "output_type": "stream",
     "text": [
      "2\n",
      "5\n",
      "3\n",
      "7\n"
     ]
    }
   ],
   "source": [
    "new_linked_list.printNodes()"
   ]
  },
  {
   "cell_type": "code",
   "execution_count": 196,
   "metadata": {},
   "outputs": [],
   "source": [
    "new_linked_list.reverseNodes()"
   ]
  },
  {
   "cell_type": "code",
   "execution_count": 197,
   "metadata": {},
   "outputs": [
    {
     "data": {
      "text/plain": [
       "4"
      ]
     },
     "execution_count": 197,
     "metadata": {},
     "output_type": "execute_result"
    }
   ],
   "source": [
    "new_linked_list.size()"
   ]
  },
  {
   "cell_type": "code",
   "execution_count": 198,
   "metadata": {},
   "outputs": [
    {
     "name": "stdout",
     "output_type": "stream",
     "text": [
      "7\n",
      "3\n",
      "5\n",
      "2\n"
     ]
    }
   ],
   "source": [
    "new_linked_list.printNodes()"
   ]
  },
  {
   "cell_type": "code",
   "execution_count": 199,
   "metadata": {},
   "outputs": [
    {
     "data": {
      "text/plain": [
       "7"
      ]
     },
     "execution_count": 199,
     "metadata": {},
     "output_type": "execute_result"
    }
   ],
   "source": [
    "new_linked_list.nth_node_from_last(4)"
   ]
  },
  {
   "cell_type": "code",
   "execution_count": null,
   "metadata": {},
   "outputs": [],
   "source": []
  }
 ],
 "metadata": {
  "kernelspec": {
   "display_name": "Python 2",
   "language": "python",
   "name": "python2"
  },
  "language_info": {
   "codemirror_mode": {
    "name": "ipython",
    "version": 2
   },
   "file_extension": ".py",
   "mimetype": "text/x-python",
   "name": "python",
   "nbconvert_exporter": "python",
   "pygments_lexer": "ipython2",
   "version": "2.7.16"
  }
 },
 "nbformat": 4,
 "nbformat_minor": 2
}
