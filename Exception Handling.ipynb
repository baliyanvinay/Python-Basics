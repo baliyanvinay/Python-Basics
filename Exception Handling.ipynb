{
 "cells": [
  {
   "cell_type": "markdown",
   "metadata": {},
   "source": [
    "# Errors and Exceptions Handling"
   ]
  },
  {
   "cell_type": "code",
   "execution_count": 4,
   "metadata": {},
   "outputs": [
    {
     "name": "stdout",
     "output_type": "stream",
     "text": [
      "This only works with numbers\n",
      "This was an example of Exception handling\n"
     ]
    }
   ],
   "source": [
    "# TypeError Exception handling for the below example\n",
    "# for i in ['a','b','c']\n",
    "try:\n",
    "    for i in ['a','b','c']:\n",
    "        print(i**2)\n",
    "except TypeError:\n",
    "    print('This only works with numbers')\n",
    "else:\n",
    "    print('Perfect!')\n",
    "finally:\n",
    "    print('This was an example of Exception handling')"
   ]
  },
  {
   "cell_type": "code",
   "execution_count": 7,
   "metadata": {},
   "outputs": [
    {
     "name": "stdout",
     "output_type": "stream",
     "text": [
      "2\n",
      "0\n",
      "Can't divide by zero\n",
      "Example of divide by zero\n"
     ]
    }
   ],
   "source": [
    "# Divide by zero exception handling\n",
    "# ZeroDivisionError: divison by zero\n",
    "a=int(raw_input())\n",
    "b=int(raw_input())\n",
    "try:\n",
    "    print(a/b)\n",
    "except ZeroDivisionError:\n",
    "    print(\"Can't divide by zero\")\n",
    "finally:\n",
    "    print('Example of divide by zero')"
   ]
  },
  {
   "cell_type": "code",
   "execution_count": 10,
   "metadata": {},
   "outputs": [],
   "source": [
    "# Write a function that asks for an integer and prints the square of it. \n",
    "# Use a while loop with a try, except, else block to account for incorrect inputs"
   ]
  },
  {
   "cell_type": "code",
   "execution_count": 12,
   "metadata": {},
   "outputs": [
    {
     "name": "stdout",
     "output_type": "stream",
     "text": [
      "a\n",
      "Only integer is required: Try again please\n",
      "g\n",
      "Only integer is required: Try again please\n",
      "4\n",
      "Code executed without error!\n",
      "16\n"
     ]
    }
   ],
   "source": [
    "while True:\n",
    "    try:\n",
    "        num=int(raw_input())\n",
    "        ask_for_int=lambda num: num**2 #used lambda expression here to get square\n",
    "    except:\n",
    "        print('Only integer is required: Try again please')\n",
    "        continue\n",
    "    else:\n",
    "        print('Code executed without error!')\n",
    "        break\n",
    "print(ask_for_int(num))"
   ]
  },
  {
   "cell_type": "code",
   "execution_count": null,
   "metadata": {},
   "outputs": [],
   "source": []
  }
 ],
 "metadata": {
  "kernelspec": {
   "display_name": "Python 2",
   "language": "python",
   "name": "python2"
  },
  "language_info": {
   "codemirror_mode": {
    "name": "ipython",
    "version": 2
   },
   "file_extension": ".py",
   "mimetype": "text/x-python",
   "name": "python",
   "nbconvert_exporter": "python",
   "pygments_lexer": "ipython2",
   "version": "2.7.16"
  }
 },
 "nbformat": 4,
 "nbformat_minor": 2
}
