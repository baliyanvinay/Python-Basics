{
 "cells": [
  {
   "cell_type": "markdown",
   "metadata": {},
   "source": [
    "# Recursion"
   ]
  },
  {
   "cell_type": "code",
   "execution_count": 1,
   "metadata": {},
   "outputs": [],
   "source": [
    "# The property of a function to call itself in recursion mode"
   ]
  },
  {
   "cell_type": "raw",
   "metadata": {},
   "source": [
    "Write a recursive function which takes an integer and computes the cumulative sum of 0 to that integer\n",
    "\n",
    "For example, if n=4 , return 4+3+2+1+0, which is 10."
   ]
  },
  {
   "cell_type": "code",
   "execution_count": 8,
   "metadata": {},
   "outputs": [],
   "source": [
    "def rsum(n):\n",
    "    # base value\n",
    "    if(n==1):\n",
    "        return 1\n",
    "    else:\n",
    "        return n+rsum(n-1)"
   ]
  },
  {
   "cell_type": "code",
   "execution_count": 9,
   "metadata": {},
   "outputs": [
    {
     "data": {
      "text/plain": [
       "10"
      ]
     },
     "execution_count": 9,
     "metadata": {},
     "output_type": "execute_result"
    }
   ],
   "source": [
    "rsum(4)"
   ]
  },
  {
   "cell_type": "raw",
   "metadata": {},
   "source": [
    "Given an integer, create a function which returns the sum of all the individual digits in that integer. \n",
    "For example: if n = 4321, return 4+3+2+1"
   ]
  },
  {
   "cell_type": "code",
   "execution_count": 16,
   "metadata": {},
   "outputs": [],
   "source": [
    "def sum_func(n):\n",
    "    print(n)\n",
    "    if(n<10):\n",
    "        return n\n",
    "    else:\n",
    "        return n%10 + sum_func(n/10)\n",
    "        "
   ]
  },
  {
   "cell_type": "code",
   "execution_count": 17,
   "metadata": {},
   "outputs": [
    {
     "name": "stdout",
     "output_type": "stream",
     "text": [
      "4321\n",
      "432\n",
      "43\n",
      "4\n"
     ]
    },
    {
     "data": {
      "text/plain": [
       "10"
      ]
     },
     "execution_count": 17,
     "metadata": {},
     "output_type": "execute_result"
    }
   ],
   "source": [
    "sum_func(4321)"
   ]
  },
  {
   "cell_type": "raw",
   "metadata": {},
   "source": [
    "Reverse the string "
   ]
  },
  {
   "cell_type": "code",
   "execution_count": 23,
   "metadata": {},
   "outputs": [],
   "source": [
    "def reverse(string):\n",
    "    # base case\n",
    "    if(len(string)==1):\n",
    "        return string\n",
    "    else:\n",
    "        return string[-1]+reverse(string[:-1])"
   ]
  },
  {
   "cell_type": "code",
   "execution_count": 25,
   "metadata": {},
   "outputs": [
    {
     "data": {
      "text/plain": [
       "'dlroW olleH'"
      ]
     },
     "execution_count": 25,
     "metadata": {},
     "output_type": "execute_result"
    }
   ],
   "source": [
    "reverse('Hello World')"
   ]
  },
  {
   "cell_type": "code",
   "execution_count": 1,
   "metadata": {},
   "outputs": [],
   "source": [
    "# String Permutation :: write a recursive function that returns the permutations of the passed string\n",
    "# string_permutation('abc') --> abc, acb, bac, bca, cba, cab"
   ]
  },
  {
   "cell_type": "code",
   "execution_count": 14,
   "metadata": {},
   "outputs": [],
   "source": [
    "def perms(s):        \n",
    "    if(len(s)==1): return [s]\n",
    "    result=[]\n",
    "    for i,v in enumerate(s):\n",
    "        result += [v+p for p in perms(s[:i]+s[i+1:])]\n",
    "    return result"
   ]
  },
  {
   "cell_type": "code",
   "execution_count": 15,
   "metadata": {},
   "outputs": [
    {
     "data": {
      "text/plain": [
       "['ab', 'ba']"
      ]
     },
     "execution_count": 15,
     "metadata": {},
     "output_type": "execute_result"
    }
   ],
   "source": [
    "perms('ab')"
   ]
  },
  {
   "cell_type": "code",
   "execution_count": null,
   "metadata": {},
   "outputs": [],
   "source": []
  }
 ],
 "metadata": {
  "kernelspec": {
   "display_name": "Python 2",
   "language": "python",
   "name": "python2"
  },
  "language_info": {
   "codemirror_mode": {
    "name": "ipython",
    "version": 2
   },
   "file_extension": ".py",
   "mimetype": "text/x-python",
   "name": "python",
   "nbconvert_exporter": "python",
   "pygments_lexer": "ipython2",
   "version": "2.7.16"
  }
 },
 "nbformat": 4,
 "nbformat_minor": 2
}
