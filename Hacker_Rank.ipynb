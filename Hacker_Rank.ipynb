{
 "cells": [
  {
   "cell_type": "code",
   "execution_count": null,
   "metadata": {},
   "outputs": [],
   "source": [
    "# List comprehensions: For the dimensions of cubiod, x,y,z and additional n, print every possible outcome of list where\n",
    "# sum of i,j,k is not equal to n and 0<=i<=x, 0<=j<=y, 0<=k<=z"
   ]
  },
  {
   "cell_type": "code",
   "execution_count": null,
   "metadata": {},
   "outputs": [],
   "source": [
    "x = int(input())\n",
    "y = int(input())\n",
    "z = int(input())\n",
    "n = int(input())\n",
    "# input: 1,1,1,2\n",
    "# Output: [[0, 0, 0], [0, 0, 1], [0, 1, 0], [1, 0, 0], [1, 1, 1]]\n",
    "# [i,j,k] Sum(i,j,k) !=n and i>=0 and i<=x; j>= and j<=y; k>=0 and k<=z\n",
    "\n",
    "# printed using list comprehension\n",
    "print('List_Comprehension way:')\n",
    "print( [ [i,j,k] for i in range(x+1) for j in range(y+1) for k in range(z+1) if((i+j+k)!=n) )\n",
    "\n",
    "# conventional way to print the list\n",
    "print_list=[]\n",
    "for i in range(x+1):\n",
    "    for j in range(y+1):\n",
    "        for k in range(z+1):\n",
    "            if((i+j+k)!=n):\n",
    "                print_list.append([i,j,k])\n",
    "            # end of if condition\n",
    "        # end of k loop\n",
    "    # end of j loop\n",
    "# end of i loop\n",
    "print('Conventional way: \\n' + str(print_list))"
   ]
  },
  {
   "cell_type": "code",
   "execution_count": null,
   "metadata": {},
   "outputs": [],
   "source": [
    "# Regular Expressions by DOSHI\n",
    "import re # importing regex module\n",
    "email='baliyanvinay_17@outlook.com'\n",
    "\n",
    "regex_dat=re.match(r'(\\w+)@(\\w+)\\.(\\w+)', email) # returns an object at memory\n",
    "#m = re.match(r'(\\w+)@(\\w+)\\.(\\w+)','username@hackerrank.com')\n",
    "\n",
    "# GROUP()\n",
    "regex_dat.group(0) # returns the entire match: same as regex_dat.group()\n",
    "regex_dat.group(1) # returns first parenthesized subgroup\n",
    "regex_dat.group(2) # returns second parenthesized subgroup or the email provider\n",
    "regex_dat.group(3) # returns third parenthesized subgroup or 'com'\n",
    "regex_dat.group(1,2,3) # returns a tuple of subgroups\n",
    "\n",
    "#GROUPS(): returns a tuple containing all the subgroups of the match.\n",
    "regex_dat.groups() # returns a tuple of all subgroups: same as regex_dat.group(1,2....n)\n",
    "\n",
    "#GROUPDICT(): returns a dictionary containing all the named subgroups of the match, keyed by the subgroup name.\n",
    "regex_dat=re.match(r'(?P<user>\\w+)@(?P<website>\\w+)\\.(?P<extension>\\w+)',email)\n",
    "# regex_dat=re.groupdict() # maybe not available in Python 2; check in Python 3\n",
    "\n",
    "# END OF EXAMPLE and EXPLANATION"
   ]
  },
  {
   "cell_type": "code",
   "execution_count": null,
   "metadata": {},
   "outputs": [],
   "source": [
    "# Regular Expressions by DOSHI\n",
    "# For a given string, find the first occurrence of an alphanumeric character(L-R) that has consecutive repetitions\n",
    "# Example, string='..12345678910111213141516171820212223' Output=> 1 cause of '111'\n",
    "# Example, string='...1112222' Output => 1 cause 1 is first character which has consecutive repititions\n",
    "# Example, string='...22211111' Output =>2 cause of same explanation as above"
   ]
  },
  {
   "cell_type": "code",
   "execution_count": null,
   "metadata": {},
   "outputs": [],
   "source": [
    "import re\n",
    "s='__init__'\n",
    "new_s=re.sub('([^0-9a-zA-Z$])+','',s) # removed anything that is not alphanumeric\n",
    "# ^ represents begining of the string and $ represent end of string\n",
    "regex_dat=re.search(r'(\\w+)\\1+',new_s)\n",
    "# ([0-9a-zA-Z])\n",
    "# regex_dat.groups() Can't view this when there is nothing in regex_dat; will throw an error\n",
    "print(regex_dat.group(1) if regex_dat else -1)"
   ]
  },
  {
   "cell_type": "code",
   "execution_count": null,
   "metadata": {},
   "outputs": [],
   "source": [
    "# Example where some commands are to be provided via input along with data. for example insert 0 1 => insert 1 at pos 0\n",
    "if __name__ == '__main__':\n",
    "    N = int(input())\n",
    "    main_list=[]\n",
    "    while N>0:\n",
    "        command=raw_input()\n",
    "        com_list=command.split()\n",
    "        if(com_list[0]=='insert'):\n",
    "            main_list.insert(int(com_list[1]),int(com_list[2]))\n",
    "        elif(com_list[0]=='print'):\n",
    "            print(main_list)\n",
    "        elif(com_list[0]=='remove'):\n",
    "            main_list.remove(int(com_list[1]))\n",
    "        elif(com_list[0]=='append'):\n",
    "            main_list.append(int(com_list[1]))\n",
    "        elif(com_list[0]=='sort'):\n",
    "            main_list.sort()\n",
    "        elif(com_list[0]=='pop'):\n",
    "            main_list.pop()\n",
    "        elif(com_list[0]=='reverse'):\n",
    "            main_list.reverse()\n",
    "        else:\n",
    "            pass\n",
    "        N-=1"
   ]
  },
  {
   "cell_type": "code",
   "execution_count": null,
   "metadata": {},
   "outputs": [],
   "source": [
    "# Print the hash of a tuple\n",
    "if __name__ == '__main__':\n",
    "    n = int(input())\n",
    "    integer_list = map(int, raw_input().split())\n",
    "    print integer_list\n",
    "    t=tuple(integer_list)\n",
    "    print t\n",
    "    print hash(t)"
   ]
  },
  {
   "cell_type": "code",
   "execution_count": null,
   "metadata": {},
   "outputs": [],
   "source": [
    "# By just using one print statement and one loop, no string functions, print the traingle of numbers\n",
    "for i in range(1,int(input())): #More than 2 lines will result in 0 score. Do not leave a blank line also\n",
    "    print( (10**(i)//9)*i ) "
   ]
  },
  {
   "cell_type": "code",
   "execution_count": null,
   "metadata": {},
   "outputs": [],
   "source": [
    "if __name__ == '__main__':\n",
    "    s = raw_input()\n",
    "    alnum,alpha,digi,upr,low=False,False,False,False,False\n",
    "    for el in s:\n",
    "        if(el.isalnum()):\n",
    "            alnum=True\n",
    "        if(el.isalpha()):\n",
    "            alpha=True\n",
    "        if(el.isdigit()):\n",
    "            digi=True\n",
    "        if(el.isupper()):\n",
    "            upr=True\n",
    "        if(el.islower()):\n",
    "            low=True\n",
    "    print(str(alnum) + '\\n' + str(alpha) + '\\n' + str(digi) + '\\n' + str(low) + '\\n' + str(upr))"
   ]
  },
  {
   "cell_type": "code",
   "execution_count": null,
   "metadata": {},
   "outputs": [],
   "source": [
    "#Hacker_Rank Logo\n",
    "#Replace all ______ with rjust, ljust or center. \n",
    "\n",
    "thickness = int(input()) #This must be an odd number\n",
    "c = 'H'\n",
    "\n",
    "#Top Cone\n",
    "for i in range(thickness):\n",
    "    print((c*i).rjust(thickness-1)+c+(c*i).ljust(thickness-1))\n",
    "\n",
    "#Top Pillars\n",
    "for i in range(thickness+1):\n",
    "    print((c*thickness).center(thickness*2)+(c*thickness).center(thickness*6))\n",
    "\n",
    "#Middle Belt\n",
    "for i in range((thickness+1)//2):\n",
    "    print((c*thickness*5).center(thickness*6))    \n",
    "\n",
    "#Bottom Pillars\n",
    "for i in range(thickness+1):\n",
    "    print((c*thickness).center(thickness*2)+(c*thickness).center(thickness*6))    \n",
    "\n",
    "#Bottom Cone\n",
    "for i in range(thickness):\n",
    "    print(((c*(thickness-i-1)).rjust(thickness)+c+(c*(thickness-i-1)).ljust(thickness)).rjust(thickness*6))"
   ]
  },
  {
   "cell_type": "code",
   "execution_count": null,
   "metadata": {},
   "outputs": [],
   "source": [
    "# Wrap a string as per the provided width\n",
    "def wrap(string, max_width):\n",
    "    counter=0\n",
    "    new_string=''\n",
    "    for el in string:\n",
    "        counter+=1\n",
    "        if(counter==max_width):\n",
    "            counter=0\n",
    "            new_string=new_string+el+'\\n'\n",
    "        else:\n",
    "            new_string=new_string+el\n",
    "    return new_string\n",
    "\n",
    "if __name__ == '__main__':\n",
    "    string, max_width = input(), int(input())\n",
    "    result = wrap(string, max_width)\n",
    "    print(result)"
   ]
  },
  {
   "cell_type": "code",
   "execution_count": null,
   "metadata": {},
   "outputs": [],
   "source": [
    "# Designer Door Mat of NxM where N=7(rows) and M=21(cols) M=N*3\n",
    "# characters in door mat designer: hyphen-9+9, 6+6, 3+3, 7+7\n",
    "n, m = map(int,raw_input().split())\n",
    "ch=-1\n",
    "for i in range(1,n+1):\n",
    "    if(round(float(n)/2)>i):\n",
    "        ch+=2\n",
    "        print('-'*int((m-(ch*3))/2) + '.|.'*ch + '-'*int((m-(ch*3))/2))\n",
    "    elif(round(float(n)/2)<i):\n",
    "        print('-'*int((m-(ch*3))/2) + '.|.'*ch + '-'*int((m-(ch*3))/2))\n",
    "        ch-=2\n",
    "    else:\n",
    "        wel=len('WELCOME')\n",
    "        print('-'*int((m-wel)/2) + 'WELCOME' + '-'*int((m-wel)/2))"
   ]
  },
  {
   "cell_type": "code",
   "execution_count": null,
   "metadata": {},
   "outputs": [],
   "source": [
    "n=9\n",
    "round(float(n)/2)>4.0"
   ]
  },
  {
   "cell_type": "code",
   "execution_count": null,
   "metadata": {
    "scrolled": true
   },
   "outputs": [],
   "source": [
    "# Capitalize each letter of the word separated by space\n",
    "s='hello world  lol'\n",
    "print ' '.join([el.capitalize() for el in s.split(' ')])"
   ]
  },
  {
   "cell_type": "code",
   "execution_count": null,
   "metadata": {},
   "outputs": [],
   "source": [
    "# Prime subset\n",
    "import sympy\n",
    "a=10\n",
    "prime_list=[num for num in range(2,a+1) if sympy.isprime(num)]\n",
    "prime_list\n"
   ]
  },
  {
   "cell_type": "code",
   "execution_count": null,
   "metadata": {},
   "outputs": [],
   "source": [
    "# Calculate the difference of the diagonals of a matrix\n",
    "row=int(input())\n",
    "col=row\n",
    "mat=[]\n",
    "for i in range(row):\n",
    "    for el in raw_input().split(' '):\n",
    "        mat.append(el)\n",
    "    # end of getting elements\n",
    "for i in range(len(mat)):\n",
    "    if (i+1==col):\n",
    "        print('\\n')\n",
    "        print(mat[i])\n",
    "    else:\n",
    "        print(mat[i])"
   ]
  },
  {
   "cell_type": "code",
   "execution_count": null,
   "metadata": {},
   "outputs": [],
   "source": [
    "# Create a function that returns the difference of the sum of the diagonals of a n*n matrix\n",
    "mat_list=[[1,2,3,4],[5,6,7,8],[9,10,11,12],[13,14,15,16]]\n",
    "for row in mat_list:\n",
    "    print row\n",
    "# Accessing and identifying logic between the diagonals\n",
    "# Primary diagonals\n",
    "mat_list[0][0]\n",
    "mat_list[1][1]\n",
    "mat_list[2][2]\n",
    "mat_list[3][3]\n",
    "# Logic: when index i==j then it is primary diagonal\n",
    "\n",
    "# Secondary diagonals\n",
    "mat_list[0][3]\n",
    "mat_list[1][2]\n",
    "mat_list[2][1]\n",
    "mat_list[3][0]\n",
    "# Logic: when index i+j==len(mat_list)-1\n",
    "\n",
    "# Only displaying primary and secondary diagonals\n",
    "prim_dia=[] # for primary diagonals\n",
    "sec_dia=[] # for secondary diagonals\n",
    "for i in range(len(mat_list)):\n",
    "    for j in range(len(mat_list)):\n",
    "        if(i==j):\n",
    "            prim_dia.append(mat_list[i][j])\n",
    "        if(i+j==len(mat_list)-1):\n",
    "            sec_dia.append(mat_list[i][j])\n",
    "print('Primary Diagonals: {}'.format(prim_dia))\n",
    "print('Secondary Diagonals: {}'.format(sec_dia))\n",
    "\n",
    "# Sum of primary and secondary diagonals and then their absolute difference\n",
    "print abs(sum(prim_dia)-sum(sec_dia))"
   ]
  },
  {
   "cell_type": "code",
   "execution_count": null,
   "metadata": {},
   "outputs": [],
   "source": [
    "# From a list, find the count of positive, negative and zero numbers and then print the ratio to total number in decimal\n",
    "# Upto n decinmal precision where n=number of elements in list\n",
    "# For example, [-4 3 -9 0 4 1 ], n=6, positive=3, negative=2 and zero=1 and the ratio will be r_p=3/6, r_n=2/6 and r_z=1/6\n",
    "\n",
    "num_list=[-4,3,-9,0,4,1]\n",
    "positives,negatives,zero=0.0,0.0,0.0\n",
    "for el in num_list:\n",
    "    if el>0:\n",
    "        positives+=1\n",
    "    elif el<0:\n",
    "        negatives+=1\n",
    "    elif el==0:\n",
    "        zero+=1\n",
    "    else:\n",
    "        pass\n",
    "print '%0.6f' % (positives/len(num_list))\n",
    "print '%0.6f' % (negatives/len(num_list))\n",
    "print '%0.6f' % (zero/len(num_list))"
   ]
  },
  {
   "cell_type": "code",
   "execution_count": null,
   "metadata": {},
   "outputs": [],
   "source": [
    "# STARICASE: Print # for n where there are n rows with incremental numbers in each row\n",
    "# Example, n=3 =>\n",
    "\n",
    "  #\n",
    " ##\n",
    "###\n",
    "\n",
    "n=int(input())\n",
    "for num in range(1,n+1):\n",
    "    print(' '*(n-num) + '#'*num)"
   ]
  },
  {
   "cell_type": "code",
   "execution_count": null,
   "metadata": {},
   "outputs": [],
   "source": [
    "# Possibilty of getting mininum sum and maximum sum from a array using only n-1 numbers\n",
    "arr=[1,2,3,4,5]\n",
    "arr.sort()\n",
    "n=1 # how many should be left out. Total =5 n=1 if we want to take 4\n",
    "# a sorted list: for first\n",
    "min_arr=sum(arr[:len(arr)-n])\n",
    "max_arr=sum(arr[n:])\n",
    "print min_arr, max_arr"
   ]
  },
  {
   "cell_type": "code",
   "execution_count": null,
   "metadata": {},
   "outputs": [],
   "source": [
    "# Convert time into 24 hour format\n",
    "# 07:05:45PM => 19:05:45\n",
    "# 12:40:22AM => 00:40:22\n",
    "import re\n",
    "s='12:40:22AM'\n",
    "time_list=s.split(':')\n",
    "regex_dat=re.findall('(:?AM|PM|am|pm)',s)\n",
    "if(regex_dat[0]=='PM' and time_list[0]!=12):\n",
    "        time_list[0]=str(int(time_list[0])+12)\n",
    "elif(regex_dat[0]=='AM' and time_list[0]=='12'):\n",
    "        time_list[0]='00'\n",
    "else:\n",
    "    pass\n",
    "regex_sec=re.sub('([^0-9$])+','',time_list[2])\n",
    "time_list.pop()\n",
    "':'.join(time_list)+':'+regex_sec"
   ]
  },
  {
   "cell_type": "code",
   "execution_count": null,
   "metadata": {},
   "outputs": [],
   "source": [
    "# Sort big numbers\n",
    "n = int(input())\n",
    "unsorted = []\n",
    "for _ in range(n):\n",
    "    unsorted_item = raw_input()\n",
    "    unsorted.append(unsorted_item)\n",
    "    \n",
    "def bigSorting(unsorted):\n",
    "    for i in range(len(unsorted)):\n",
    "        for j in range(len(unsorted)):\n",
    "            if float(unsorted[i])<float(unsorted[j]):\n",
    "                temp=unsorted[i]\n",
    "                unsorted[i]=unsorted[j]\n",
    "                unsorted[j]=temp\n",
    "    return unsorted\n",
    "#print bigSorting(a)\n",
    "print(sorted(unsorted,key=int)) # study this more"
   ]
  },
  {
   "cell_type": "code",
   "execution_count": null,
   "metadata": {},
   "outputs": [],
   "source": [
    "class Person:\n",
    "    def __init__(self,initialAge):\n",
    "        # Add some more code to run some checks on initialAge\n",
    "        if (initialAge<0):\n",
    "            self.age=0\n",
    "            print('Age is not valid, setting age to 0.')\n",
    "        self.age=initialAge\n",
    "    def amIOld(self):\n",
    "        # Do some computations in here and print out the correct statement to the console\n",
    "        if(self.age<13):\n",
    "            print('You are young.')\n",
    "        elif(self.age>=13 and self.age<18):\n",
    "            print('You are a teenager.')\n",
    "        else:\n",
    "            print('You are old.')\n",
    "    def yearPasses(self):\n",
    "        # Increment the age of the person in here\n",
    "        self.age=self.age+1\n",
    "        return self.age\n",
    "t = int(input())\n",
    "for i in range(0, t):\n",
    "    age = int(input())         \n",
    "    p = Person(age)  \n",
    "    p.amIOld()\n",
    "    for j in range(0, 3):\n",
    "        p.yearPasses()       \n",
    "    p.amIOld()\n",
    "    print(\"\")"
   ]
  },
  {
   "cell_type": "code",
   "execution_count": null,
   "metadata": {},
   "outputs": [],
   "source": [
    "# Print array in reverse index order and print output as one string line with spaces\n",
    "arr=[4,5,3,2,9]\n",
    "print(' '.join(map(str, arr[::-1])))"
   ]
  },
  {
   "cell_type": "code",
   "execution_count": null,
   "metadata": {},
   "outputs": [],
   "source": [
    "# Alphabet Rangoli\n",
    "import string\n",
    "alpha = string.ascii_lowercase\n",
    "n = int(input())\n",
    "L = []\n",
    "for i in range(n):\n",
    "    s = \"-\".join(alpha[i:n])\n",
    "    L.append((s[::-1]+s[1:]).center(4*n-3, \"-\"))\n",
    "print('\\n'.join(L[:0:-1]+L))"
   ]
  },
  {
   "cell_type": "code",
   "execution_count": null,
   "metadata": {},
   "outputs": [],
   "source": [
    "# Using product to get the cartesian product of two lists\n",
    "from itertools import product\n",
    "# map returns list for all items\n",
    "a=map(int, raw_input().split())\n",
    "b=map(int, raw_input().split())\n",
    "# the output has to be tuple only and not a list with tuples\n",
    "list_cart=list(product(a,b))\n",
    "print(' '.join(str(item) for item in list_cart))"
   ]
  },
  {
   "cell_type": "code",
   "execution_count": null,
   "metadata": {},
   "outputs": [],
   "source": [
    "# using counter to get the sum of item sold by a vendor\n",
    "from collections import Counter\n",
    "n_shoes=int(raw_input()) # no of shoes\n",
    "shoe_size=map(int, raw_input().split()) # shoes sizes in list separated by spaces\n",
    "n_cust=int(raw_input()) # no of customers\n",
    "for i in range(1,n_cust+1):\n",
    "    cust_shoe=map(int, raw_input().split())"
   ]
  },
  {
   "cell_type": "code",
   "execution_count": null,
   "metadata": {},
   "outputs": [],
   "source": [
    "# Sets to get sum of unique elements\n",
    "n=int(raw_input())\n",
    "set_plant=set(map(int, raw_input().split()))\n",
    "print(float(sum(set_plant))/len(set_plant))"
   ]
  },
  {
   "cell_type": "code",
   "execution_count": null,
   "metadata": {},
   "outputs": [],
   "source": [
    "# Symmetric difference using set\n",
    "m=int(raw_input())\n",
    "m_set=set(map(int, raw_input().split()))\n",
    "\n",
    "n=int(raw_input())\n",
    "n_set=set(map(int, raw_input().split()))\n",
    "\n",
    "for el in sorted(m_set.symmetric_difference(n_set)):\n",
    "    print el"
   ]
  },
  {
   "cell_type": "code",
   "execution_count": null,
   "metadata": {},
   "outputs": [],
   "source": [
    "# Distinct country using set and add() function\n",
    "ctry_set=set()\n",
    "for el in range(int(raw_input())):\n",
    "    ctry_set.add(raw_input())\n",
    "print(len(ctry_set))"
   ]
  },
  {
   "cell_type": "code",
   "execution_count": null,
   "metadata": {},
   "outputs": [],
   "source": [
    "# Exception handing\n",
    "output_list=[]\n",
    "error=''\n",
    "for i in range(int(input())):\n",
    "    a,b=map(str, input().split())\n",
    "    try:\n",
    "        output=int(a)//int(b)\n",
    "    except Exception as error:\n",
    "        output='Error Code: '+ str(error)\n",
    "    output_list.append(str(output))\n",
    "for el in output_list:\n",
    "    print(el)"
   ]
  },
  {
   "cell_type": "code",
   "execution_count": null,
   "metadata": {},
   "outputs": [],
   "source": [
    "# Factorial generator functions for infinite series\n",
    "def factorial_gen():\n",
    "    i, fac = 1, 1\n",
    "    while True:\n",
    "        yield fac\n",
    "        fac *= i\n",
    "        i += 1\n",
    "fs=factorial_gen()\n",
    "for _ in range(4):\n",
    "    print(fs.next())"
   ]
  },
  {
   "cell_type": "code",
   "execution_count": null,
   "metadata": {},
   "outputs": [],
   "source": [
    "# Binary Search Tree\n",
    "class Node:\n",
    "    def __init__(self,data):\n",
    "        self.right=self.left=None\n",
    "        # for the data, the left and right is set to None and data is added\n",
    "        self.data = data\n",
    "class Solution:\n",
    "    def insert(self,root,data):\n",
    "        if root==None: # at first this is None\n",
    "            return Node(data) # class object called with data, this will take to Node class and in __init__ func at line3\n",
    "        # this returns the object of Node\n",
    "        else:\n",
    "            if data<=root.data:\n",
    "                cur=self.insert(root.left,data)\n",
    "                root.left=cur\n",
    "            else:# step 2, insert(root,5), root is a NodeObject, accessing Node attribute data and checking\n",
    "                cur=self.insert(root.right,data) # insert(root.right,5): root.right is None for now\n",
    "                # calling the same function will again take us line 8, 9, 10->3,5,6, also root=3.right will have \n",
    "                # another object whose data attribute is gonna have 5\n",
    "                root.right=cur # curr returns the NodeObject for data=5 which is assigned to root.right attribute\n",
    "        return root\n",
    "\n",
    "    def getHeight(self,root):\n",
    "        #Write your code here\n",
    "        # if root is still None, that means no data, here -1 is returned\n",
    "        if(root==None):\n",
    "            return -1\n",
    "        # if root has no left and no right that means, root is the only single element\n",
    "        if(root.right==None and root.left==None):\n",
    "            return 0\n",
    "        left_height=self.getHeight(root.left)\n",
    "        right_height=self.getHeight(root.right)\n",
    "        return max(left_height,right_height)+1\n",
    "    def levelOrder(self,root):\n",
    "        if(root.left==None and root.right==None):\n",
    "            return root.data\n",
    "        return self.levelOrder(root.left)\n",
    "\n",
    "T=int(input())\n",
    "myTree=Solution() # Tree of solution class\n",
    "root=None # initially the Root will be se to None\n",
    "for i in range(T): # for every element user enters\n",
    "    data=int(input()) # the value user entered\n",
    "    root=myTree.insert(root,data) \n",
    "    # at first, root will be None so insert(None,3) if data=3 for example: this takes the flow to insert function\n",
    "    # for the next element, root is an object so not null, insert(NodeObject,5)\n",
    "height=myTree.getHeight(root)\n",
    "#print(height)   \n",
    "print(myTree.levelOrder(root))"
   ]
  },
  {
   "cell_type": "code",
   "execution_count": null,
   "metadata": {},
   "outputs": [],
   "source": [
    "# Using Decorator print the numbers in a defined format\n",
    "l=['07895462130', '919875641230', '9195969878']\n",
    "new_l_a=[\"+91 \"+c[-10:-5]+\" \"+c[-5:] for c in l]\n",
    "print(new_l_a)\n",
    "new_l=[]\n",
    "for el in l:\n",
    "    l_str=el\n",
    "    l_list=[_ for _ in l_str]\n",
    "    while(len(l_list)!=10):\n",
    "        l_list.pop(0)\n",
    "        l_str=''.join(l_list)\n",
    "    new_l.append('+91 '+l_str[0:5] +' '+l_str[5:])\n",
    "new_l=sorted(new_l)\n",
    "for el in new_l:\n",
    "    print(el)"
   ]
  },
  {
   "cell_type": "code",
   "execution_count": null,
   "metadata": {},
   "outputs": [],
   "source": [
    "# Pasting the link of the problem for anagram program\n",
    "# https://www.hackerrank.com/challenges/anagram/problem\n",
    "from collections import Counter\n",
    "s='abcd'\n",
    "def anagram(s):\n",
    "    if(len(s)%2!=0):\n",
    "        return -1\n",
    "    else:\n",
    "        c,new_l=0,int(len(s)/2)\n",
    "        s1,s2=s[:new_l],s[new_l:]\n",
    "        c_s1,c_s2=Counter(s1), Counter(s2)\n",
    "        for key in c_s2.keys():\n",
    "            if(key not in c_s1.keys()):\n",
    "                c+=c_s2[key]\n",
    "            elif(c_s2[key]>c_s1[key]):\n",
    "                c+=(c_s2[key]-c_s1[key])\n",
    "        return c\n",
    "print(anagram(s))"
   ]
  },
  {
   "cell_type": "code",
   "execution_count": null,
   "metadata": {},
   "outputs": [],
   "source": [
    "# Someone's code for the same problem\n",
    "def anagram(s):\n",
    "    if(len(s)%2 != 0):\n",
    "        return -1\n",
    "    sum_ana=0\n",
    "    for i in set(s[:len(s)//2]):\n",
    "        if(s[:len(s)//2].count(i)-s[len(s)//2:].count(i)>0):\n",
    "            sum_ana+=s[:len(s)//2].count(i)-s[len(s)//2:].count(i)\n",
    "    return sum_ana\n",
    "print(anagram(s))"
   ]
  },
  {
   "cell_type": "code",
   "execution_count": null,
   "metadata": {},
   "outputs": [],
   "source": [
    "# Array pair Sum-Udemy\n",
    "# In an given array, output all unique pairs that sum up to a value k\n",
    "arr=[1,3,3,2,2]\n",
    "k=4\n",
    "# Result should be 2 since (1,3) and (2,2) sum up to 4\n",
    "arr.sort() # this is required so that it does not create subset like (1,2) and (2,1)\n",
    "from itertools import combinations\n",
    "for el in set(combinations(arr,2)):\n",
    "    print el\n",
    "print(len([1 for el in set(combinations(arr,2)) if(sum(el)==k)]))"
   ]
  },
  {
   "cell_type": "code",
   "execution_count": null,
   "metadata": {},
   "outputs": [],
   "source": [
    "# From a given array, reshuffle the element, then delete a random element, find the random deleted element\n",
    "import random\n",
    "arr=[1,2,3,4,5,6]\n",
    "new_arr=list(arr)\n",
    "random.shuffle(new_arr)\n",
    "new_arr.pop()\n",
    "print(arr,new_arr)\n",
    "for el in arr:\n",
    "    if(el not in new_arr):\n",
    "        print(el)"
   ]
  },
  {
   "cell_type": "code",
   "execution_count": null,
   "metadata": {},
   "outputs": [],
   "source": [
    "# Exclusive OR :: XOR to get the missing element\n",
    "import random\n",
    "arr=[1,2,3,4,5,6]\n",
    "new_arr=list(arr)\n",
    "random.shuffle(new_arr)\n",
    "new_arr.pop()\n",
    "print(arr,new_arr)\n",
    "\n",
    "res=0\n",
    "for el in arr+new_arr: # list concatenation( arr1+arr2)\n",
    "    res^=el\n",
    "print(res)"
   ]
  },
  {
   "cell_type": "code",
   "execution_count": null,
   "metadata": {},
   "outputs": [],
   "source": [
    "# XOR Explanation :: if element is equal to the value of num then it will subtract the value from num otherwise val added\n",
    "a=[1,2,3]\n",
    "b=[1,2]\n",
    "num=0\n",
    "for el in a+b:\n",
    "    num^=el\n",
    "    print(num)\n",
    "#print(num)"
   ]
  },
  {
   "cell_type": "code",
   "execution_count": 32,
   "metadata": {},
   "outputs": [
    {
     "name": "stdout",
     "output_type": "stream",
     "text": [
      "29\n"
     ]
    }
   ],
   "source": [
    "# Large Continous Sum\n",
    "#arr=[-1,1,2,3,9,-4,-6,2]\n",
    "#arr=[-1,1,4,-4]\n",
    "#arr=[7,-2,5,-1,-2]\n",
    "arr=[1,2,-1,3,4,10,10,-10,-1]\n",
    "sum_iter=max(arr)\n",
    "for i in range(len(arr)-1):\n",
    "    for j in range(i+1,len(arr)):\n",
    "        if(sum(arr[i:j+1])>sum_iter):\n",
    "            sum_iter=sum(arr[i:j+1])\n",
    "print(sum_iter)"
   ]
  },
  {
   "cell_type": "code",
   "execution_count": 37,
   "metadata": {},
   "outputs": [
    {
     "name": "stdout",
     "output_type": "stream",
     "text": [
      "abd\n"
     ]
    }
   ],
   "source": [
    "# Take a string and print the reduced version of it, for example aaab-> ab, aaabccddd->abd\n",
    "# condition: if element along the adjacent element matches, then both are removed\n",
    "s='abd' # need to typecast into list\n",
    "s_list=[_ for _ in s]\n",
    "\n",
    "indx=0\n",
    "while((indx+1)<len(s_list)):\n",
    "    if(s_list[indx]==s_list[indx+1]):\n",
    "        s_list.pop(indx)\n",
    "        s_list.pop(indx)\n",
    "        indx=0\n",
    "    else:\n",
    "        indx+=1\n",
    "print('Empty String' if(not len(s_list)) else ''.join(map(str,s_list)))"
   ]
  },
  {
   "cell_type": "code",
   "execution_count": 38,
   "metadata": {},
   "outputs": [
    {
     "data": {
      "text/plain": [
       "'ghost! a am I'"
      ]
     },
     "execution_count": 38,
     "metadata": {},
     "output_type": "execute_result"
    }
   ],
   "source": [
    "# reverse the letters in a string\n",
    "string='I am a ghost!    '\n",
    "string_list=string.strip().split()\n",
    "' '.join(map(str,string_list[::-1]))"
   ]
  },
  {
   "cell_type": "code",
   "execution_count": 59,
   "metadata": {},
   "outputs": [
    {
     "name": "stdout",
     "output_type": "stream",
     "text": [
      "A2B1\n"
     ]
    }
   ],
   "source": [
    "# string compresssion string='AAAaaa' -> A3a3\n",
    "string='AAB'\n",
    "str_list=[]\n",
    "for el in set(string):\n",
    "    str_list.append(el+str(string.count(el)))\n",
    "print(''.join(map(str,str_list)))"
   ]
  },
  {
   "cell_type": "code",
   "execution_count": 60,
   "metadata": {},
   "outputs": [
    {
     "name": "stdout",
     "output_type": "stream",
     "text": [
      "False\n",
      "False\n"
     ]
    }
   ],
   "source": [
    "# unique characters in a string\n",
    "string='zzaad'\n",
    "unique=True\n",
    "for el in set(string):\n",
    "    if(string.count(el)>1):\n",
    "        unique=False\n",
    "        break\n",
    "print(unique)\n",
    "\n",
    "#Another short trick\n",
    "print(len(string)==len(set(string)))"
   ]
  },
  {
   "cell_type": "code",
   "execution_count": 34,
   "metadata": {},
   "outputs": [
    {
     "name": "stdout",
     "output_type": "stream",
     "text": [
      "12.09.1800\n"
     ]
    }
   ],
   "source": [
    "# print nth day as date of a given year\n",
    "year=1800\n",
    "#str(9).zfill(2)\n",
    "i,d=0,256\n",
    "month_count=[31,28,31,30,31,30,31,31,30,31,30,31]\n",
    "if(year>=1700 and year<=1917):\n",
    "    # Leap Year :: divisble by 4\n",
    "    if(year%4==0):\n",
    "        month_count[1]=29\n",
    "    while(d>month_count[i]):\n",
    "        d-=month_count[i]\n",
    "        i+=1\n",
    "    print('{}.{}.{}'.format(d,str(i+1).zfill(2),year))"
   ]
  },
  {
   "cell_type": "code",
   "execution_count": 41,
   "metadata": {},
   "outputs": [
    {
     "name": "stdout",
     "output_type": "stream",
     "text": [
      "1\n"
     ]
    }
   ],
   "source": [
    "# Drawing Book \n",
    "# https://www.hackerrank.com/challenges/drawing-book/problem\n",
    "p,n=5,6\n",
    "cnt=0\n",
    "n=n+1 if(n%2==0) else n\n",
    "for el in range(0,n,2):\n",
    "    if(p in (el,el+1) or p in (n-el-1,n-el)):\n",
    "        break\n",
    "    else:\n",
    "        cnt+=1\n",
    "print(cnt)"
   ]
  },
  {
   "cell_type": "code",
   "execution_count": 47,
   "metadata": {},
   "outputs": [
    {
     "name": "stdout",
     "output_type": "stream",
     "text": [
      "(1, 3)\n",
      "(1, 4)\n",
      "(2, 3)\n",
      "(2, 4)\n"
     ]
    }
   ],
   "source": [
    "# Cartesian Product\n",
    "from itertools import product\n",
    "a=[1,2]\n",
    "b=[3,4]\n",
    "bug=5\n",
    "for el in product(a,b):\n",
    "    print(el)"
   ]
  },
  {
   "cell_type": "code",
   "execution_count": 62,
   "metadata": {},
   "outputs": [
    {
     "data": {
      "text/plain": [
       "7"
      ]
     },
     "execution_count": 62,
     "metadata": {},
     "output_type": "execute_result"
    }
   ],
   "source": [
    "# Waiting for answer for this one\n",
    "n=5 \n",
    "bin_string = '1' * (n // 2 + 1)\n",
    "int(bin_string, 2)"
   ]
  },
  {
   "cell_type": "code",
   "execution_count": null,
   "metadata": {},
   "outputs": [],
   "source": []
  }
 ],
 "metadata": {
  "kernelspec": {
   "display_name": "Python 2",
   "language": "python",
   "name": "python2"
  },
  "language_info": {
   "codemirror_mode": {
    "name": "ipython",
    "version": 2
   },
   "file_extension": ".py",
   "mimetype": "text/x-python",
   "name": "python",
   "nbconvert_exporter": "python",
   "pygments_lexer": "ipython2",
   "version": "2.7.16"
  }
 },
 "nbformat": 4,
 "nbformat_minor": 2
}
